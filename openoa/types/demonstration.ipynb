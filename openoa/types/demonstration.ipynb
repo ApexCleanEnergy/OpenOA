{
 "cells": [
  {
   "cell_type": "code",
   "execution_count": 1,
   "metadata": {},
   "outputs": [],
   "source": [
    " from pathlib import Path\n",
    "from pprint import pprint\n",
    "\n",
    "import numpy as np\n",
    "import pandas as pd\n",
    "\n",
    "from openoa.types.plant_v2 import PlantDataV3, PlantMetaData"
   ]
  },
  {
   "cell_type": "code",
   "execution_count": 2,
   "metadata": {},
   "outputs": [],
   "source": [
    "fpath = Path(\"/Users/rhammond/Documents/GitHub/OpenOA/examples/data/la_haute_borne\")\n",
    "fn_scada = \"la-haute-borne-data-2014-2015.csv\"\n",
    "fn_meter = \"plant_data.csv\"\n",
    "fn_curtail = \"plant_data.csv\"\n",
    "fn_reanalysis = \"merra2_la_haute_borne.csv\"\n",
    "fn_asset = \"la-haute-borne_asset_table.csv\"\n",
    "\n",
    "scada = pd.read_csv(fpath / fn_scada)\n",
    "meter = pd.read_csv(fpath / fn_meter)\n",
    "curtail = pd.read_csv(fpath / fn_curtail)\n",
    "reanalysis = pd.read_csv(fpath / fn_reanalysis)\n",
    "asset = pd.read_csv(fpath / fn_asset)"
   ]
  },
  {
   "cell_type": "markdown",
   "metadata": {},
   "source": [
    "## TODO\n",
    " - read data from spark, csv, pandas\n",
    " - read from json, yaml, dict, and pre-loaded object\n",
    " - automatically calculate wind direction from u/v windspeed\n",
    " - call planetos api if API key is provided\n",
    " - support flags for if csv/planetos/data object/etc\n",
    " - will need plant coordinates\n",
    " - expand metadata to contain plant-level identifiers (latitude, longitude)\n",
    " - check against the -25 namings and (likely) adopt that naming convention for the plant data\n",
    "   - map the input column names, and provide a method to provide them back as the original inputs\n",
    " - get the 0 notebook working, or at least as a means to understand what will be required for refactoring"
   ]
  },
  {
   "cell_type": "code",
   "execution_count": 3,
   "metadata": {},
   "outputs": [],
   "source": [
    "column_mapping = dict(  # rename to metadata\n",
    "    scada=dict(\n",
    "        time=\"Date_time\",\n",
    "        id=\"Wind_turbine_name\",\n",
    "        power=\"P_avg\",\n",
    "        windspeed=\"Ws_avg\",\n",
    "#         wtur_wspd=\"Ws_avg\",  # TODO: adopt the -25 naming\n",
    "        wind_direction=\"Wa_avg\",\n",
    "#         status=\"?\",\n",
    "        pitch=\"Ba_avg\",\n",
    "        temperature=\"Ot_avg\",\n",
    "        frequency=\"10T\",\n",
    "    ),\n",
    "    meter=dict(\n",
    "        time=\"time_utc\",\n",
    "        energy=\"net_energy_kwh\",\n",
    "    ),\n",
    "    curtail=dict(\n",
    "        time=\"time_utc\",\n",
    "        curtailment=\"curtailment_kwh\",\n",
    "        availability=\"availability_kwh\",\n",
    "        net_energy=\"net_energy_kwh\",\n",
    "        frequency=\"10T\",\n",
    "    ),\n",
    "    reanalysis=dict(\n",
    "        time=\"datetime\",\n",
    "        windspeed=\"windspeed_ms\",\n",
    "        windspeed_u=\"u_ms\",\n",
    "        windspeed_v=\"v_ms\",\n",
    "        temperature=\"temperature_K\",\n",
    "        rho=\"rho_kgm\",\n",
    "        frequency=\"10T\",\n",
    "#         product=\"merra2\",\n",
    "    ),\n",
    "    asset=dict(\n",
    "        id=\"id\",\n",
    "        latitude=\"latitude\",\n",
    "        longitude=\"longitude\",\n",
    "        rated_power=\"rated_power_kw\",\n",
    "#         type=\"?\",\n",
    "    ),\n",
    ")"
   ]
  },
  {
   "cell_type": "code",
   "execution_count": 4,
   "metadata": {},
   "outputs": [],
   "source": [
    "plant_meta = PlantMetaData.from_dict(column_mapping)"
   ]
  },
  {
   "cell_type": "code",
   "execution_count": 5,
   "metadata": {},
   "outputs": [
    {
     "data": {
      "text/plain": [
       "{'time': numpy.datetime64,\n",
       " 'id': str,\n",
       " 'power': float,\n",
       " 'windspeed': float,\n",
       " 'wind_direction': float,\n",
       " 'status': str,\n",
       " 'pitch': float,\n",
       " 'temperature': float}"
      ]
     },
     "execution_count": 5,
     "metadata": {},
     "output_type": "execute_result"
    }
   ],
   "source": [
    "plant_meta.scada.dtypes"
   ]
  },
  {
   "cell_type": "code",
   "execution_count": 6,
   "metadata": {},
   "outputs": [
    {
     "ename": "ValueError",
     "evalue": "Input data could not be converted to pandas",
     "output_type": "error",
     "traceback": [
      "\u001b[0;31m---------------------------------------------------------------------------\u001b[0m",
      "\u001b[0;31mValueError\u001b[0m                                Traceback (most recent call last)",
      "\u001b[0;32m<ipython-input-6-768fe94db933>\u001b[0m in \u001b[0;36m<module>\u001b[0;34m\u001b[0m\n\u001b[0;32m----> 1\u001b[0;31m plant = PlantDataV3(\n\u001b[0m\u001b[1;32m      2\u001b[0m     \u001b[0mmetadata\u001b[0m\u001b[0;34m=\u001b[0m\u001b[0mcolumn_mapping\u001b[0m\u001b[0;34m,\u001b[0m\u001b[0;34m\u001b[0m\u001b[0;34m\u001b[0m\u001b[0m\n\u001b[1;32m      3\u001b[0m     \u001b[0mscada\u001b[0m\u001b[0;34m=\u001b[0m\u001b[0mscada\u001b[0m\u001b[0;34m,\u001b[0m\u001b[0;34m\u001b[0m\u001b[0;34m\u001b[0m\u001b[0m\n\u001b[1;32m      4\u001b[0m     \u001b[0mmeter\u001b[0m\u001b[0;34m=\u001b[0m\u001b[0mmeter\u001b[0m\u001b[0;34m,\u001b[0m\u001b[0;34m\u001b[0m\u001b[0;34m\u001b[0m\u001b[0m\n\u001b[1;32m      5\u001b[0m     \u001b[0mcurtail\u001b[0m\u001b[0;34m=\u001b[0m\u001b[0mcurtail\u001b[0m\u001b[0;34m,\u001b[0m\u001b[0;34m\u001b[0m\u001b[0;34m\u001b[0m\u001b[0m\n",
      "\u001b[0;32m<attrs generated init openoa.types.plant_v2.PlantDataV3>\u001b[0m in \u001b[0;36m__init__\u001b[0;34m(self, metadata, analysis_type, scada, meter, tower, status, curtail, asset, reanalysis)\u001b[0m\n\u001b[1;32m      9\u001b[0m     \u001b[0m_setattr\u001b[0m\u001b[0;34m(\u001b[0m\u001b[0;34m'curtail'\u001b[0m\u001b[0;34m,\u001b[0m \u001b[0m__attr_converter_curtail\u001b[0m\u001b[0;34m(\u001b[0m\u001b[0mcurtail\u001b[0m\u001b[0;34m)\u001b[0m\u001b[0;34m)\u001b[0m\u001b[0;34m\u001b[0m\u001b[0;34m\u001b[0m\u001b[0m\n\u001b[1;32m     10\u001b[0m     \u001b[0m_setattr\u001b[0m\u001b[0;34m(\u001b[0m\u001b[0;34m'asset'\u001b[0m\u001b[0;34m,\u001b[0m \u001b[0m__attr_converter_asset\u001b[0m\u001b[0;34m(\u001b[0m\u001b[0masset\u001b[0m\u001b[0;34m)\u001b[0m\u001b[0;34m)\u001b[0m\u001b[0;34m\u001b[0m\u001b[0;34m\u001b[0m\u001b[0m\n\u001b[0;32m---> 11\u001b[0;31m     \u001b[0m_setattr\u001b[0m\u001b[0;34m(\u001b[0m\u001b[0;34m'reanalysis'\u001b[0m\u001b[0;34m,\u001b[0m \u001b[0m__attr_converter_reanalysis\u001b[0m\u001b[0;34m(\u001b[0m\u001b[0mreanalysis\u001b[0m\u001b[0;34m)\u001b[0m\u001b[0;34m)\u001b[0m\u001b[0;34m\u001b[0m\u001b[0;34m\u001b[0m\u001b[0m\n\u001b[0m\u001b[1;32m     12\u001b[0m     \u001b[0m_setattr\u001b[0m\u001b[0;34m(\u001b[0m\u001b[0;34m'_errors'\u001b[0m\u001b[0;34m,\u001b[0m \u001b[0mattr_dict\u001b[0m\u001b[0;34m[\u001b[0m\u001b[0;34m'_errors'\u001b[0m\u001b[0;34m]\u001b[0m\u001b[0;34m.\u001b[0m\u001b[0mdefault\u001b[0m\u001b[0;34m)\u001b[0m\u001b[0;34m\u001b[0m\u001b[0;34m\u001b[0m\u001b[0m\n\u001b[1;32m     13\u001b[0m     \u001b[0;32mif\u001b[0m \u001b[0m_config\u001b[0m\u001b[0;34m.\u001b[0m\u001b[0m_run_validators\u001b[0m \u001b[0;32mis\u001b[0m \u001b[0;32mTrue\u001b[0m\u001b[0;34m:\u001b[0m\u001b[0;34m\u001b[0m\u001b[0;34m\u001b[0m\u001b[0m\n",
      "\u001b[0;32m~/Documents/GitHub/OpenOA/openoa/types/plant_v2.py\u001b[0m in \u001b[0;36mload_to_pandas\u001b[0;34m(data)\u001b[0m\n\u001b[1;32m    653\u001b[0m         \u001b[0;32mreturn\u001b[0m \u001b[0mdata\u001b[0m\u001b[0;34m.\u001b[0m\u001b[0mtoPandas\u001b[0m\u001b[0;34m(\u001b[0m\u001b[0;34m)\u001b[0m\u001b[0;34m\u001b[0m\u001b[0;34m\u001b[0m\u001b[0m\n\u001b[1;32m    654\u001b[0m     \u001b[0;32melse\u001b[0m\u001b[0;34m:\u001b[0m\u001b[0;34m\u001b[0m\u001b[0;34m\u001b[0m\u001b[0m\n\u001b[0;32m--> 655\u001b[0;31m         \u001b[0;32mraise\u001b[0m \u001b[0mValueError\u001b[0m\u001b[0;34m(\u001b[0m\u001b[0;34m\"Input data could not be converted to pandas\"\u001b[0m\u001b[0;34m)\u001b[0m\u001b[0;34m\u001b[0m\u001b[0;34m\u001b[0m\u001b[0m\n\u001b[0m\u001b[1;32m    656\u001b[0m \u001b[0;34m\u001b[0m\u001b[0m\n\u001b[1;32m    657\u001b[0m \u001b[0;34m\u001b[0m\u001b[0m\n",
      "\u001b[0;31mValueError\u001b[0m: Input data could not be converted to pandas"
     ]
    }
   ],
   "source": [
    "plant = PlantDataV3(\n",
    "    metadata=column_mapping,\n",
    "    scada=scada,\n",
    "    meter=meter,\n",
    "    curtail=curtail,\n",
    "    reanalysis={\"merra2\": reanalysis, \"era5\": reanalysis},  # preferred, and enable API pulling\n",
    "    asset=asset,\n",
    "    analysis_type=\"MonteCarloAEP\"\n",
    ")"
   ]
  },
  {
   "cell_type": "code",
   "execution_count": null,
   "metadata": {},
   "outputs": [],
   "source": [
    "plant.analysis_type = \"all\"\n",
    "plant.validate()"
   ]
  },
  {
   "cell_type": "code",
   "execution_count": null,
   "metadata": {},
   "outputs": [],
   "source": [
    "plant.analysis_type = \"TurbineLongTermGrossEnergy\"\n",
    "plant.validate()"
   ]
  },
  {
   "cell_type": "code",
   "execution_count": null,
   "metadata": {},
   "outputs": [],
   "source": [
    "plant.analysis_type = \"ElectricalLosses\"\n",
    "plant.validate()"
   ]
  },
  {
   "cell_type": "code",
   "execution_count": null,
   "metadata": {},
   "outputs": [],
   "source": []
  },
  {
   "cell_type": "code",
   "execution_count": null,
   "metadata": {},
   "outputs": [],
   "source": [
    "ANALYSIS_REQUIREMENTS = {\n",
    "    \"MonteCarloAEP\": {\n",
    "        \"meter\": {\n",
    "            \"columns\": [\"energy\"],\n",
    "            \"freq\": (\"MS\", \"D\", \"H\", \"T\"),\n",
    "        },\n",
    "        \"curtail\": {\n",
    "            \"columns\": [\"availability\", \"curtailment\"],\n",
    "            \"freq\": (\"MS\", \"D\", \"H\", \"T\"),\n",
    "        },\n",
    "        \"reanalysis\": {\n",
    "            \"columns\": [\"windspeed\", \"rho\"],\n",
    "            \"conditional_columns\": {\n",
    "                \"reg_temperature\": [\"temperature\"],\n",
    "                \"reg_winddirection\": [\"windspeed_u\", \"windspeed_v\"],\n",
    "            },\n",
    "        },\n",
    "    },\n",
    "    \"TurbineLongTermGrossEnergy\": {\n",
    "        \"scada\": {\n",
    "            \"columns\": [\"id\", \"windspeed\", \"power\"],  # TODO: wtur_W_avg vs energy_kwh ?\n",
    "            \"freq\": (\"D\", \"H\", \"T\"),\n",
    "        },\n",
    "        \"reanalysis\": {\n",
    "            \"columns\": [\"windspeed\", \"wind_direction\", \"rho\"],\n",
    "        },\n",
    "    },\n",
    "    \"ElectricalLosses\": {\n",
    "        \"scada\": {\n",
    "            \"columns\": [\"energy\"],\n",
    "            \"freq\": (\"D\", \"H\", \"T\"),\n",
    "        },\n",
    "        \"meter\": {\n",
    "            \"columns\": [\"energy\"],\n",
    "            \"freq\": (\"MS\", \"D\", \"H\", \"T\"),\n",
    "        },\n",
    "    },\n",
    "}"
   ]
  },
  {
   "cell_type": "code",
   "execution_count": null,
   "metadata": {},
   "outputs": [],
   "source": []
  }
 ],
 "metadata": {
  "kernelspec": {
   "display_name": "Python 3",
   "language": "python",
   "name": "python3"
  },
  "language_info": {
   "codemirror_mode": {
    "name": "ipython",
    "version": 3
   },
   "file_extension": ".py",
   "mimetype": "text/x-python",
   "name": "python",
   "nbconvert_exporter": "python",
   "pygments_lexer": "ipython3",
   "version": "3.8.5"
  }
 },
 "nbformat": 4,
 "nbformat_minor": 4
}
