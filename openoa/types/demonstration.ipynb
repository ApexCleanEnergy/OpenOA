{
 "cells": [
  {
   "cell_type": "code",
   "execution_count": 1,
   "metadata": {},
   "outputs": [],
   "source": [
    "from copy import deepcopy\n",
    "from pprint import pprint\n",
    "from pathlib import Path\n",
    "\n",
    "import numpy as np\n",
    "import pandas as pd\n",
    "\n",
    "from openoa.types.plant_v2 import PlantDataV3, PlantMetaData"
   ]
  },
  {
   "cell_type": "code",
   "execution_count": 2,
   "metadata": {},
   "outputs": [],
   "source": [
    "fpath = Path(\"/Users/rhammond/Documents/GitHub/OpenOA/examples/data/la_haute_borne\")\n",
    "fn_scada = fpath / \"la-haute-borne-data-2014-2015.csv\"\n",
    "fn_meter = fpath / \"plant_data.csv\"\n",
    "fn_curtail = fpath / \"plant_data.csv\"\n",
    "fn_reanalysis_merra2 = fpath / \"merra2_la_haute_borne.csv\"\n",
    "fn_reanalysis_era5 = fpath / \"era5_wind_la_haute_borne.csv\"\n",
    "fn_asset = fpath / \"la-haute-borne_asset_table.csv\"\n",
    "\n",
    "scada = pd.read_csv(fn_scada)\n",
    "meter = pd.read_csv(fn_meter)\n",
    "curtail = pd.read_csv(fn_curtail)\n",
    "reanalysis_era5 = pd.read_csv(fn_reanalysis_era5)\n",
    "reanalysis_merra2 = pd.read_csv(fn_reanalysis_merra2)\n",
    "asset = pd.read_csv(fn_asset)"
   ]
  },
  {
   "cell_type": "markdown",
   "metadata": {},
   "source": [
    "## TODO\n",
    " - [x] read data from spark, csv, pandas\n",
    " - [x] read metadata from json, yaml, dict, and pre-loaded object\n",
    " - [ ] automatically calculate wind direction from u/v windspeed\n",
    " - [x] call planetos api if API key is provided\n",
    "   - [ ] validate this works\n",
    " - [x] support flags for if csv/planetos/data object/etc\n",
    " - datetime column frequency checks\n",
    "    - [ ] check against the provided metadata\n",
    "    - [ ] validate against the analysis requirements\n",
    " - [x] expand metadata to contain plant-level identifiers (latitude, longitude)\n",
    " - check against the -25 namings and (likely) adopt that naming convention for the plant data\n",
    "   - [ ] update internal column naming convention to the -25 schema (Eric/Lewis)\n",
    "   - [ ] map the input column names, and provide a method to provide them back as the original inputs\n",
    " - [ ] get the 0 notebook working, or at least as a means to understand what will be required for refactoring"
   ]
  },
  {
   "cell_type": "code",
   "execution_count": 3,
   "metadata": {},
   "outputs": [],
   "source": [
    "plant_meta = dict(\n",
    "    scada=dict(\n",
    "        time=\"Date_time\",\n",
    "        id=\"Wind_turbine_name\",\n",
    "        power=\"P_avg\",\n",
    "        windspeed=\"Ws_avg\",\n",
    "#         wtur_wspd=\"Ws_avg\",  # TODO: adopt the -25 naming\n",
    "        wind_direction=\"Wa_avg\",\n",
    "#         status=\"?\",\n",
    "        pitch=\"Ba_avg\",\n",
    "        temperature=\"Ot_avg\",\n",
    "        frequency=\"10T\",\n",
    "    ),\n",
    "    meter=dict(\n",
    "        time=\"time_utc\",\n",
    "        energy=\"net_energy_kwh\",\n",
    "    ),\n",
    "    curtail=dict(\n",
    "        time=\"time_utc\",\n",
    "        curtailment=\"curtailment_kwh\",\n",
    "        availability=\"availability_kwh\",\n",
    "        net_energy=\"net_energy_kwh\",\n",
    "        frequency=\"10T\",\n",
    "    ),\n",
    "    reanalysis=dict(\n",
    "        era5=dict(\n",
    "            time=\"datetime\",\n",
    "            windspeed=\"ws_100m\",\n",
    "            windspeed_u=\"u_100\",\n",
    "            windspeed_v=\"v_100\",\n",
    "            frequency=\"H\",\n",
    "        ),\n",
    "        merra2=dict(\n",
    "            time=\"datetime\",\n",
    "            windspeed=\"windspeed_ms\",\n",
    "            windspeed_u=\"u_ms\",\n",
    "            windspeed_v=\"v_ms\",\n",
    "            temperature=\"temperature_K\",\n",
    "            rho=\"rho_kgm\",\n",
    "            frequency=\"H\",\n",
    "        )\n",
    "    ),\n",
    "    asset=dict(\n",
    "        id=\"id\",\n",
    "        latitude=\"latitude\",\n",
    "        longitude=\"longitude\",\n",
    "        rated_power=\"rated_power_kw\",\n",
    "#         type=\"?\",\n",
    "    ),\n",
    ")\n",
    "# import yaml\n",
    "# import json\n",
    "\n",
    "# with open(\"plant_meta.yml\", \"w\") as f:\n",
    "#     yaml.safe_dump(plant_meta, f, default_flow_style=False)\n",
    "    \n",
    "# with open(\"plant_meta.json\", \"w\") as f:\n",
    "#     json.dump(plant_meta, f, indent=4)"
   ]
  },
  {
   "cell_type": "code",
   "execution_count": 4,
   "metadata": {},
   "outputs": [
    {
     "data": {
      "text/plain": [
       "(True, openoa.types.plant_v2.PlantMetaData)"
      ]
     },
     "execution_count": 4,
     "metadata": {},
     "output_type": "execute_result"
    }
   ],
   "source": [
    "meta_from_dict = PlantMetaData.from_dict(plant_meta)\n",
    "meta_from_json = PlantMetaData.from_json(\"plant_meta.json\")\n",
    "meta_from_yaml = PlantMetaData.from_yaml(\"plant_meta.yml\")\n",
    "meta_from_dict == meta_from_json == meta_from_yaml, type(meta_from_dict)"
   ]
  },
  {
   "cell_type": "code",
   "execution_count": 5,
   "metadata": {},
   "outputs": [
    {
     "data": {
      "text/plain": [
       "openoa.types.plant_v2.PlantDataV3"
      ]
     },
     "execution_count": 5,
     "metadata": {},
     "output_type": "execute_result"
    }
   ],
   "source": [
    "plant_from_data = PlantDataV3(\n",
    "    metadata=meta_from_dict,\n",
    "    scada=scada,\n",
    "    meter=meter,\n",
    "    curtail=curtail,\n",
    "    reanalysis={\"merra2\": reanalysis_merra2, \"era5\": reanalysis_era5},  # preferred, and enable API pulling\n",
    "    asset=asset,\n",
    "    analysis_type=\"MonteCarloAEP\"\n",
    ")\n",
    "\n",
    "plant_from_file1 = PlantDataV3(\n",
    "    metadata=\"plant_meta.yml\",\n",
    "    scada=fn_scada,\n",
    "    meter=fn_meter,\n",
    "    curtail=fn_curtail,\n",
    "    reanalysis={\"merra2\": fn_reanalysis_merra2, \"era5\": fn_reanalysis_era5},  # preferred, and enable API pulling\n",
    "    asset=fn_asset,\n",
    "    analysis_type=\"MonteCarloAEP\"\n",
    ")\n",
    "\n",
    "plant_from_file2 = PlantDataV3(\n",
    "    metadata=\"plant_meta.json\",\n",
    "    scada=fn_scada,\n",
    "    meter=fn_meter,\n",
    "    curtail=fn_curtail,\n",
    "    reanalysis={\"merra2\": fn_reanalysis_merra2, \"era5\": fn_reanalysis_era5},  # preferred, and enable API pulling\n",
    "    asset=fn_asset,\n",
    "    analysis_type=\"MonteCarloAEP\"\n",
    ")\n",
    "type(plant_from_data)"
   ]
  },
  {
   "cell_type": "code",
   "execution_count": 6,
   "metadata": {},
   "outputs": [
    {
     "ename": "ValueError",
     "evalue": "`scada` data is missing the following columns: ['status']\n`meter` data is missing the following columns: ['power']\n`tower` data is missing the following columns: ['time', 'id']\n`asset` data is missing the following columns: ['rated_power_kw', 'id', 'latitude', 'type', 'longitude']\n`status` data is missing the following columns: ['time', 'id', 'status_id', 'status_code', 'status_text']\n`reanalysis-merra2` data is missing the following columns: ['rho_kgm', 'wind_direction', 'windspeed_ms']\n`reanalysis-era5` data is missing the following columns: ['rho', 'wind_direction']\n`scada` data columns were of the wrong type: ['status']\n`meter` data columns were of the wrong type: ['power']\n`tower` data columns were of the wrong type: ['time', 'id']\n`asset` data columns were of the wrong type: ['id', 'latitude', 'longitude', 'rated_power_kw', 'type']\n`status` data columns were of the wrong type: ['time', 'id', 'status_id', 'status_code', 'status_text']\n`reanalysis-merra2` data columns were of the wrong type: ['windspeed_ms', 'wind_direction', 'rho_kgm']\n`reanalysis-era5` data columns were of the wrong type: ['wind_direction', 'rho']",
     "output_type": "error",
     "traceback": [
      "\u001b[0;31m---------------------------------------------------------------------------\u001b[0m",
      "\u001b[0;31mValueError\u001b[0m                                Traceback (most recent call last)",
      "\u001b[0;32m<ipython-input-6-6adec677f9d0>\u001b[0m in \u001b[0;36m<module>\u001b[0;34m\u001b[0m\n\u001b[0;32m----> 1\u001b[0;31m plant_from_data = PlantDataV3(\n\u001b[0m\u001b[1;32m      2\u001b[0m     \u001b[0mmetadata\u001b[0m\u001b[0;34m=\u001b[0m\u001b[0mmeta_from_dict\u001b[0m\u001b[0;34m,\u001b[0m\u001b[0;34m\u001b[0m\u001b[0;34m\u001b[0m\u001b[0m\n\u001b[1;32m      3\u001b[0m     \u001b[0mscada\u001b[0m\u001b[0;34m=\u001b[0m\u001b[0mscada\u001b[0m\u001b[0;34m,\u001b[0m\u001b[0;34m\u001b[0m\u001b[0;34m\u001b[0m\u001b[0m\n\u001b[1;32m      4\u001b[0m     \u001b[0mmeter\u001b[0m\u001b[0;34m=\u001b[0m\u001b[0mmeter\u001b[0m\u001b[0;34m,\u001b[0m\u001b[0;34m\u001b[0m\u001b[0;34m\u001b[0m\u001b[0m\n\u001b[1;32m      5\u001b[0m     \u001b[0mcurtail\u001b[0m\u001b[0;34m=\u001b[0m\u001b[0mcurtail\u001b[0m\u001b[0;34m,\u001b[0m\u001b[0;34m\u001b[0m\u001b[0;34m\u001b[0m\u001b[0m\n",
      "\u001b[0;32m<attrs generated init openoa.types.plant_v2.PlantDataV3>\u001b[0m in \u001b[0;36m__init__\u001b[0;34m(self, metadata, analysis_type, scada, meter, tower, status, curtail, asset, reanalysis)\u001b[0m\n\u001b[1;32m     19\u001b[0m         \u001b[0m__attr_validator_curtail\u001b[0m\u001b[0;34m(\u001b[0m\u001b[0mself\u001b[0m\u001b[0;34m,\u001b[0m \u001b[0m__attr_curtail\u001b[0m\u001b[0;34m,\u001b[0m \u001b[0mself\u001b[0m\u001b[0;34m.\u001b[0m\u001b[0mcurtail\u001b[0m\u001b[0;34m)\u001b[0m\u001b[0;34m\u001b[0m\u001b[0;34m\u001b[0m\u001b[0m\n\u001b[1;32m     20\u001b[0m         \u001b[0m__attr_validator_asset\u001b[0m\u001b[0;34m(\u001b[0m\u001b[0mself\u001b[0m\u001b[0;34m,\u001b[0m \u001b[0m__attr_asset\u001b[0m\u001b[0;34m,\u001b[0m \u001b[0mself\u001b[0m\u001b[0;34m.\u001b[0m\u001b[0masset\u001b[0m\u001b[0;34m)\u001b[0m\u001b[0;34m\u001b[0m\u001b[0;34m\u001b[0m\u001b[0m\n\u001b[0;32m---> 21\u001b[0;31m     \u001b[0mself\u001b[0m\u001b[0;34m.\u001b[0m\u001b[0m__attrs_post_init__\u001b[0m\u001b[0;34m(\u001b[0m\u001b[0;34m)\u001b[0m\u001b[0;34m\u001b[0m\u001b[0;34m\u001b[0m\u001b[0m\n\u001b[0m",
      "\u001b[0;32m~/Documents/GitHub/OpenOA/openoa/types/plant_v2.py\u001b[0m in \u001b[0;36m__attrs_post_init__\u001b[0;34m(self)\u001b[0m\n\u001b[1;32m    837\u001b[0m         \u001b[0;32mif\u001b[0m \u001b[0merror_message\u001b[0m \u001b[0;34m!=\u001b[0m \u001b[0;34m\"\"\u001b[0m\u001b[0;34m:\u001b[0m\u001b[0;34m\u001b[0m\u001b[0;34m\u001b[0m\u001b[0m\n\u001b[1;32m    838\u001b[0m             \u001b[0;31m# raise ValueError(\"\\n\".join(itertools.chain(*self._errors.values())))\u001b[0m\u001b[0;34m\u001b[0m\u001b[0;34m\u001b[0m\u001b[0;34m\u001b[0m\u001b[0m\n\u001b[0;32m--> 839\u001b[0;31m             \u001b[0;32mraise\u001b[0m \u001b[0mValueError\u001b[0m\u001b[0;34m(\u001b[0m\u001b[0merror_message\u001b[0m\u001b[0;34m)\u001b[0m\u001b[0;34m\u001b[0m\u001b[0;34m\u001b[0m\u001b[0m\n\u001b[0m\u001b[1;32m    840\u001b[0m \u001b[0;34m\u001b[0m\u001b[0m\n\u001b[1;32m    841\u001b[0m     \u001b[0;34m@\u001b[0m\u001b[0mscada\u001b[0m\u001b[0;34m.\u001b[0m\u001b[0mvalidator\u001b[0m\u001b[0;34m\u001b[0m\u001b[0;34m\u001b[0m\u001b[0m\n",
      "\u001b[0;31mValueError\u001b[0m: `scada` data is missing the following columns: ['status']\n`meter` data is missing the following columns: ['power']\n`tower` data is missing the following columns: ['time', 'id']\n`asset` data is missing the following columns: ['rated_power_kw', 'id', 'latitude', 'type', 'longitude']\n`status` data is missing the following columns: ['time', 'id', 'status_id', 'status_code', 'status_text']\n`reanalysis-merra2` data is missing the following columns: ['rho_kgm', 'wind_direction', 'windspeed_ms']\n`reanalysis-era5` data is missing the following columns: ['rho', 'wind_direction']\n`scada` data columns were of the wrong type: ['status']\n`meter` data columns were of the wrong type: ['power']\n`tower` data columns were of the wrong type: ['time', 'id']\n`asset` data columns were of the wrong type: ['id', 'latitude', 'longitude', 'rated_power_kw', 'type']\n`status` data columns were of the wrong type: ['time', 'id', 'status_id', 'status_code', 'status_text']\n`reanalysis-merra2` data columns were of the wrong type: ['windspeed_ms', 'wind_direction', 'rho_kgm']\n`reanalysis-era5` data columns were of the wrong type: ['wind_direction', 'rho']"
     ]
    }
   ],
   "source": [
    "plant_from_data = PlantDataV3(\n",
    "    metadata=meta_from_dict,\n",
    "    scada=scada,\n",
    "    meter=meter,\n",
    "    curtail=curtail,\n",
    "    reanalysis={\"merra2\": reanalysis_merra2, \"era5\": reanalysis_era5},  # preferred, and enable API pulling\n",
    "    asset=asset,\n",
    "    analysis_type=\"all\"\n",
    ")"
   ]
  },
  {
   "cell_type": "code",
   "execution_count": 7,
   "metadata": {},
   "outputs": [],
   "source": [
    "plant = deepcopy(plant_from_data)"
   ]
  },
  {
   "cell_type": "code",
   "execution_count": 9,
   "metadata": {},
   "outputs": [
    {
     "ename": "ValueError",
     "evalue": "`scada` data is missing the following columns: ['status']\n`meter` data is missing the following columns: ['power']\n`tower` data is missing the following columns: ['time', 'id']\n`asset` data is missing the following columns: ['rated_power_kw', 'id', 'latitude', 'type', 'longitude']\n`status` data is missing the following columns: ['time', 'id', 'status_id', 'status_code', 'status_text']\n`reanalysis-merra2` data is missing the following columns: ['rho_kgm', 'wind_direction', 'windspeed_ms']\n`reanalysis-era5` data is missing the following columns: ['rho', 'wind_direction']\n`scada` data columns were of the wrong type: ['status']\n`meter` data columns were of the wrong type: ['power']\n`tower` data columns were of the wrong type: ['time', 'id']\n`asset` data columns were of the wrong type: ['id', 'latitude', 'longitude', 'rated_power_kw', 'type']\n`status` data columns were of the wrong type: ['time', 'id', 'status_id', 'status_code', 'status_text']\n`reanalysis` data columns were of the wrong type: ['era5', 'merra2']\n`reanalysis-merra2` data columns were of the wrong type: ['windspeed_ms', 'wind_direction', 'rho_kgm']\n`reanalysis-era5` data columns were of the wrong type: ['wind_direction', 'rho']",
     "output_type": "error",
     "traceback": [
      "\u001b[0;31m---------------------------------------------------------------------------\u001b[0m",
      "\u001b[0;31mValueError\u001b[0m                                Traceback (most recent call last)",
      "\u001b[0;32m<ipython-input-9-f67b5e4cc83a>\u001b[0m in \u001b[0;36m<module>\u001b[0;34m\u001b[0m\n\u001b[1;32m      1\u001b[0m \u001b[0mplant\u001b[0m\u001b[0;34m.\u001b[0m\u001b[0manalysis_type\u001b[0m \u001b[0;34m=\u001b[0m \u001b[0;34m\"all\"\u001b[0m\u001b[0;34m\u001b[0m\u001b[0;34m\u001b[0m\u001b[0m\n\u001b[0;32m----> 2\u001b[0;31m \u001b[0mplant\u001b[0m\u001b[0;34m.\u001b[0m\u001b[0mvalidate\u001b[0m\u001b[0;34m(\u001b[0m\u001b[0;34m)\u001b[0m\u001b[0;34m\u001b[0m\u001b[0;34m\u001b[0m\u001b[0m\n\u001b[0m",
      "\u001b[0;32m~/Documents/GitHub/OpenOA/openoa/types/plant_v2.py\u001b[0m in \u001b[0;36mvalidate\u001b[0;34m(self, column_names, column_dtypes)\u001b[0m\n\u001b[1;32m    995\u001b[0m         \u001b[0merror_message\u001b[0m \u001b[0;34m=\u001b[0m \u001b[0mcompose_error_message\u001b[0m\u001b[0;34m(\u001b[0m\u001b[0mself\u001b[0m\u001b[0;34m.\u001b[0m\u001b[0m_errors\u001b[0m\u001b[0;34m,\u001b[0m \u001b[0mself\u001b[0m\u001b[0;34m.\u001b[0m\u001b[0manalysis_type\u001b[0m\u001b[0;34m)\u001b[0m\u001b[0;34m\u001b[0m\u001b[0;34m\u001b[0m\u001b[0m\n\u001b[1;32m    996\u001b[0m         \u001b[0;32mif\u001b[0m \u001b[0merror_message\u001b[0m\u001b[0;34m:\u001b[0m\u001b[0;34m\u001b[0m\u001b[0;34m\u001b[0m\u001b[0m\n\u001b[0;32m--> 997\u001b[0;31m             \u001b[0;32mraise\u001b[0m \u001b[0mValueError\u001b[0m\u001b[0;34m(\u001b[0m\u001b[0merror_message\u001b[0m\u001b[0;34m)\u001b[0m\u001b[0;34m\u001b[0m\u001b[0;34m\u001b[0m\u001b[0m\n\u001b[0m\u001b[1;32m    998\u001b[0m \u001b[0;34m\u001b[0m\u001b[0m\n\u001b[1;32m    999\u001b[0m     \u001b[0;31m# Not necessary, but could provide an additional way in\u001b[0m\u001b[0;34m\u001b[0m\u001b[0;34m\u001b[0m\u001b[0;34m\u001b[0m\u001b[0m\n",
      "\u001b[0;31mValueError\u001b[0m: `scada` data is missing the following columns: ['status']\n`meter` data is missing the following columns: ['power']\n`tower` data is missing the following columns: ['time', 'id']\n`asset` data is missing the following columns: ['rated_power_kw', 'id', 'latitude', 'type', 'longitude']\n`status` data is missing the following columns: ['time', 'id', 'status_id', 'status_code', 'status_text']\n`reanalysis-merra2` data is missing the following columns: ['rho_kgm', 'wind_direction', 'windspeed_ms']\n`reanalysis-era5` data is missing the following columns: ['rho', 'wind_direction']\n`scada` data columns were of the wrong type: ['status']\n`meter` data columns were of the wrong type: ['power']\n`tower` data columns were of the wrong type: ['time', 'id']\n`asset` data columns were of the wrong type: ['id', 'latitude', 'longitude', 'rated_power_kw', 'type']\n`status` data columns were of the wrong type: ['time', 'id', 'status_id', 'status_code', 'status_text']\n`reanalysis` data columns were of the wrong type: ['era5', 'merra2']\n`reanalysis-merra2` data columns were of the wrong type: ['windspeed_ms', 'wind_direction', 'rho_kgm']\n`reanalysis-era5` data columns were of the wrong type: ['wind_direction', 'rho']"
     ]
    }
   ],
   "source": [
    "plant.analysis_type = \"all\"\n",
    "plant.validate()"
   ]
  },
  {
   "cell_type": "code",
   "execution_count": 10,
   "metadata": {},
   "outputs": [
    {
     "name": "stdout",
     "output_type": "stream",
     "text": [
      "Unnamed: 0                  int64\n",
      "datetime      datetime64[ns, UTC]\n",
      "u_100                     float64\n",
      "v_100                     float64\n",
      "t_2m                      float64\n",
      "surf_pres                 float64\n",
      "ws_100m                   float64\n",
      "dens_100m                 float64\n",
      "dtype: object\n"
     ]
    },
    {
     "data": {
      "text/html": [
       "<div>\n",
       "<style scoped>\n",
       "    .dataframe tbody tr th:only-of-type {\n",
       "        vertical-align: middle;\n",
       "    }\n",
       "\n",
       "    .dataframe tbody tr th {\n",
       "        vertical-align: top;\n",
       "    }\n",
       "\n",
       "    .dataframe thead th {\n",
       "        text-align: right;\n",
       "    }\n",
       "</style>\n",
       "<table border=\"1\" class=\"dataframe\">\n",
       "  <thead>\n",
       "    <tr style=\"text-align: right;\">\n",
       "      <th></th>\n",
       "      <th>Unnamed: 0</th>\n",
       "      <th>datetime</th>\n",
       "      <th>u_100</th>\n",
       "      <th>v_100</th>\n",
       "      <th>t_2m</th>\n",
       "      <th>surf_pres</th>\n",
       "      <th>ws_100m</th>\n",
       "      <th>dens_100m</th>\n",
       "    </tr>\n",
       "  </thead>\n",
       "  <tbody>\n",
       "    <tr>\n",
       "      <th>0</th>\n",
       "      <td>0</td>\n",
       "      <td>1999-01-01 00:00:00+00:00</td>\n",
       "      <td>-4.456234</td>\n",
       "      <td>4.999991</td>\n",
       "      <td>277.496492</td>\n",
       "      <td>97020.784132</td>\n",
       "      <td>6.697606</td>\n",
       "      <td>1.216004</td>\n",
       "    </tr>\n",
       "    <tr>\n",
       "      <th>1</th>\n",
       "      <td>1</td>\n",
       "      <td>1999-01-01 01:00:00+00:00</td>\n",
       "      <td>-5.006666</td>\n",
       "      <td>4.540059</td>\n",
       "      <td>277.330357</td>\n",
       "      <td>97002.617960</td>\n",
       "      <td>6.758612</td>\n",
       "      <td>1.216525</td>\n",
       "    </tr>\n",
       "    <tr>\n",
       "      <th>2</th>\n",
       "      <td>2</td>\n",
       "      <td>1999-01-01 02:00:00+00:00</td>\n",
       "      <td>-5.101353</td>\n",
       "      <td>4.032729</td>\n",
       "      <td>276.968939</td>\n",
       "      <td>97035.490081</td>\n",
       "      <td>6.502823</td>\n",
       "      <td>1.218571</td>\n",
       "    </tr>\n",
       "    <tr>\n",
       "      <th>3</th>\n",
       "      <td>3</td>\n",
       "      <td>1999-01-01 03:00:00+00:00</td>\n",
       "      <td>-5.787051</td>\n",
       "      <td>2.111372</td>\n",
       "      <td>276.721193</td>\n",
       "      <td>97021.649188</td>\n",
       "      <td>6.160183</td>\n",
       "      <td>1.219518</td>\n",
       "    </tr>\n",
       "    <tr>\n",
       "      <th>4</th>\n",
       "      <td>4</td>\n",
       "      <td>1999-01-01 04:00:00+00:00</td>\n",
       "      <td>-6.349969</td>\n",
       "      <td>1.693571</td>\n",
       "      <td>276.291280</td>\n",
       "      <td>97005.213128</td>\n",
       "      <td>6.571932</td>\n",
       "      <td>1.221259</td>\n",
       "    </tr>\n",
       "  </tbody>\n",
       "</table>\n",
       "</div>"
      ],
      "text/plain": [
       "   Unnamed: 0                  datetime     u_100     v_100        t_2m  \\\n",
       "0           0 1999-01-01 00:00:00+00:00 -4.456234  4.999991  277.496492   \n",
       "1           1 1999-01-01 01:00:00+00:00 -5.006666  4.540059  277.330357   \n",
       "2           2 1999-01-01 02:00:00+00:00 -5.101353  4.032729  276.968939   \n",
       "3           3 1999-01-01 03:00:00+00:00 -5.787051  2.111372  276.721193   \n",
       "4           4 1999-01-01 04:00:00+00:00 -6.349969  1.693571  276.291280   \n",
       "\n",
       "      surf_pres   ws_100m  dens_100m  \n",
       "0  97020.784132  6.697606   1.216004  \n",
       "1  97002.617960  6.758612   1.216525  \n",
       "2  97035.490081  6.502823   1.218571  \n",
       "3  97021.649188  6.160183   1.219518  \n",
       "4  97005.213128  6.571932   1.221259  "
      ]
     },
     "execution_count": 10,
     "metadata": {},
     "output_type": "execute_result"
    }
   ],
   "source": [
    "print(plant.reanalysis[\"era5\"].dtypes)\n",
    "plant.reanalysis[\"era5\"].head()"
   ]
  },
  {
   "cell_type": "code",
   "execution_count": 11,
   "metadata": {},
   "outputs": [],
   "source": [
    "plant.analysis_type = \"TurbineLongTermGrossEnergy\"\n",
    "plant.validate()"
   ]
  },
  {
   "cell_type": "code",
   "execution_count": 12,
   "metadata": {},
   "outputs": [],
   "source": [
    "plant.analysis_type = \"ElectricalLosses\"\n",
    "plant.validate()"
   ]
  },
  {
   "cell_type": "code",
   "execution_count": null,
   "metadata": {},
   "outputs": [],
   "source": [
    "ANALYSIS_REQUIREMENTS = {\n",
    "    \"MonteCarloAEP\": {\n",
    "        \"meter\": {\n",
    "            \"columns\": [\"energy\"],\n",
    "            \"freq\": (\"MS\", \"D\", \"H\", \"T\"),\n",
    "        },\n",
    "        \"curtail\": {\n",
    "            \"columns\": [\"availability\", \"curtailment\"],\n",
    "            \"freq\": (\"MS\", \"D\", \"H\", \"T\"),\n",
    "        },\n",
    "        \"reanalysis\": {\n",
    "            \"columns\": [\"windspeed\", \"rho\"],\n",
    "            \"conditional_columns\": {\n",
    "                \"reg_temperature\": [\"temperature\"],\n",
    "                \"reg_winddirection\": [\"windspeed_u\", \"windspeed_v\"],\n",
    "            },\n",
    "        },\n",
    "    },\n",
    "    \"TurbineLongTermGrossEnergy\": {\n",
    "        \"scada\": {\n",
    "            \"columns\": [\"id\", \"windspeed\", \"power\"],  # TODO: wtur_W_avg vs energy_kwh ?\n",
    "            \"freq\": (\"D\", \"H\", \"T\"),\n",
    "        },\n",
    "        \"reanalysis\": {\n",
    "            \"columns\": [\"windspeed\", \"wind_direction\", \"rho\"],\n",
    "        },\n",
    "    },\n",
    "    \"ElectricalLosses\": {\n",
    "        \"scada\": {\n",
    "            \"columns\": [\"energy\"],\n",
    "            \"freq\": (\"D\", \"H\", \"T\"),\n",
    "        },\n",
    "        \"meter\": {\n",
    "            \"columns\": [\"energy\"],\n",
    "            \"freq\": (\"MS\", \"D\", \"H\", \"T\"),\n",
    "        },\n",
    "    },\n",
    "}"
   ]
  },
  {
   "cell_type": "code",
   "execution_count": null,
   "metadata": {},
   "outputs": [],
   "source": []
  }
 ],
 "metadata": {
  "kernelspec": {
   "display_name": "Python 3",
   "language": "python",
   "name": "python3"
  },
  "language_info": {
   "codemirror_mode": {
    "name": "ipython",
    "version": 3
   },
   "file_extension": ".py",
   "mimetype": "text/x-python",
   "name": "python",
   "nbconvert_exporter": "python",
   "pygments_lexer": "ipython3",
   "version": "3.8.5"
  }
 },
 "nbformat": 4,
 "nbformat_minor": 4
}
