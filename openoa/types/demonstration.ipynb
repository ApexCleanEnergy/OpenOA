{
 "cells": [
  {
   "cell_type": "code",
   "execution_count": 1,
   "metadata": {},
   "outputs": [],
   "source": [
    "from pathlib import Path\n",
    "from pprint import pprint\n",
    "\n",
    "import numpy as np\n",
    "import pandas as pd\n",
    "\n",
    "from openoa.types.plant_v2 import PlantDataV3, PlantMetaData"
   ]
  },
  {
   "cell_type": "code",
   "execution_count": 2,
   "metadata": {},
   "outputs": [],
   "source": [
    "fpath = Path(\"/Users/rhammond/Documents/GitHub/OpenOA/examples/data/la_haute_borne\")\n",
    "fn_scada = \"la-haute-borne-data-2014-2015.csv\"\n",
    "fn_meter = \"plant_data.csv\"\n",
    "fn_curtail = \"plant_data.csv\"\n",
    "fn_reanalysis = \"merra2_la_haute_borne.csv\"\n",
    "fn_asset = \"la-haute-borne_asset_table.csv\"\n",
    "\n",
    "scada = pd.read_csv(fpath / fn_scada)\n",
    "meter = pd.read_csv(fpath / fn_meter)\n",
    "curtail = pd.read_csv(fpath / fn_curtail)\n",
    "reanalysis = pd.read_csv(fpath / fn_reanalysis)\n",
    "asset = pd.read_csv(fpath / fn_asset)"
   ]
  },
  {
   "cell_type": "code",
   "execution_count": 3,
   "metadata": {},
   "outputs": [],
   "source": [
    "column_mapping = dict(\n",
    "    scada=dict(\n",
    "        time=\"Date_time\",\n",
    "        id=\"Wind_turbine_name\",\n",
    "        power=\"P_avg\",\n",
    "        windspeed=\"Ws_avg\",\n",
    "        wind_direction=\"Wa_avg\",\n",
    "#         status=\"?\",\n",
    "        pitch=\"Ba_avg\",\n",
    "        temperature=\"Ot_avg\",\n",
    "        frequency=\"10T\",\n",
    "    ),\n",
    "    meter=dict(\n",
    "        time=\"time_utc\",\n",
    "#         power=\"?\",\n",
    "        energy=\"net_energy_kwh\",\n",
    "    ),\n",
    "    curtail=dict(\n",
    "        time=\"time_utc\",\n",
    "        curtailment=\"curtailment_kwh\",\n",
    "        availability=\"availability_kwh\",\n",
    "        net_energy=\"net_energy_kwh\",\n",
    "        frequency=\"10T\",\n",
    "    ),\n",
    "    reanalysis=dict(\n",
    "        time=\"datetime\",\n",
    "        windspeed=\"windspeed_ms\",\n",
    "        windspeed_u=\"u_ms\",\n",
    "        windspeed_v=\"v_ms\",\n",
    "        temperature=\"temperature_K\",\n",
    "        rho=\"rho_kgm\",\n",
    "        frequency=\"10T\",\n",
    "#         product=\"merra2\",\n",
    "    ),\n",
    "    asset=dict(\n",
    "        id=\"id\",\n",
    "        latitude=\"latitude\",\n",
    "        longitude=\"longitude\",\n",
    "        rated_power=\"rated_power_kw\",\n",
    "#         type=\"?\",\n",
    "    ),\n",
    ")"
   ]
  },
  {
   "cell_type": "code",
   "execution_count": 4,
   "metadata": {},
   "outputs": [],
   "source": [
    "plant_meta = PlantMetaData.from_dict(column_mapping)"
   ]
  },
  {
   "cell_type": "code",
   "execution_count": 5,
   "metadata": {},
   "outputs": [],
   "source": [
    "plant = PlantDataV3(\n",
    "    metadata=column_mapping,\n",
    "    scada=scada,\n",
    "    meter=meter,\n",
    "    curtail=curtail,\n",
    "    reanalysis=reanalysis,\n",
    "    asset=asset,\n",
    "    analysis_type=\"MonteCarloAEP\"\n",
    ")"
   ]
  },
  {
   "cell_type": "code",
   "execution_count": 7,
   "metadata": {},
   "outputs": [
    {
     "ename": "ValueError",
     "evalue": "`scada` data is missing the following columns: ['status']\n`meter` data is missing the following columns: ['power']\n`tower` data is missing the following columns: ['time', 'id']\n`asset` data is missing the following columns: ['id', 'longitude', 'type', 'rated_power_kw', 'latitude']\n`status` data is missing the following columns: ['time', 'id', 'status_id', 'status_code', 'status_text']\n`reanalysis` data is missing the following columns: ['windspeed_ms', 'wind_direction', 'rho_kgm']\n`scada` data columns were of the wrong type: ['status']\n`meter` data columns were of the wrong type: ['power']\n`tower` data columns were of the wrong type: ['time', 'id']\n`asset` data columns were of the wrong type: ['id', 'latitude', 'longitude', 'rated_power_kw', 'type']\n`status` data columns were of the wrong type: ['time', 'id', 'status_id', 'status_code', 'status_text']\n`reanalysis` data columns were of the wrong type: ['windspeed_ms', 'wind_direction', 'rho_kgm']",
     "output_type": "error",
     "traceback": [
      "\u001b[0;31m---------------------------------------------------------------------------\u001b[0m",
      "\u001b[0;31mValueError\u001b[0m                                Traceback (most recent call last)",
      "\u001b[0;32m<ipython-input-7-f67b5e4cc83a>\u001b[0m in \u001b[0;36m<module>\u001b[0;34m\u001b[0m\n\u001b[1;32m      1\u001b[0m \u001b[0mplant\u001b[0m\u001b[0;34m.\u001b[0m\u001b[0manalysis_type\u001b[0m \u001b[0;34m=\u001b[0m \u001b[0;34m\"all\"\u001b[0m\u001b[0;34m\u001b[0m\u001b[0;34m\u001b[0m\u001b[0m\n\u001b[0;32m----> 2\u001b[0;31m \u001b[0mplant\u001b[0m\u001b[0;34m.\u001b[0m\u001b[0mvalidate\u001b[0m\u001b[0;34m(\u001b[0m\u001b[0;34m)\u001b[0m\u001b[0;34m\u001b[0m\u001b[0;34m\u001b[0m\u001b[0m\n\u001b[0m",
      "\u001b[0;32m~/Documents/GitHub/OpenOA/openoa/types/plant_v2.py\u001b[0m in \u001b[0;36mvalidate\u001b[0;34m(self, column_names, column_dtypes)\u001b[0m\n\u001b[1;32m    775\u001b[0m         \u001b[0merror_message\u001b[0m \u001b[0;34m=\u001b[0m \u001b[0mcompose_error_message\u001b[0m\u001b[0;34m(\u001b[0m\u001b[0merror_dict\u001b[0m\u001b[0;34m,\u001b[0m \u001b[0mself\u001b[0m\u001b[0;34m.\u001b[0m\u001b[0manalysis_type\u001b[0m\u001b[0;34m)\u001b[0m\u001b[0;34m\u001b[0m\u001b[0;34m\u001b[0m\u001b[0m\n\u001b[1;32m    776\u001b[0m         \u001b[0;32mif\u001b[0m \u001b[0merror_message\u001b[0m\u001b[0;34m:\u001b[0m\u001b[0;34m\u001b[0m\u001b[0;34m\u001b[0m\u001b[0m\n\u001b[0;32m--> 777\u001b[0;31m             \u001b[0;32mraise\u001b[0m \u001b[0mValueError\u001b[0m\u001b[0;34m(\u001b[0m\u001b[0merror_message\u001b[0m\u001b[0;34m)\u001b[0m\u001b[0;34m\u001b[0m\u001b[0;34m\u001b[0m\u001b[0m\n\u001b[0m\u001b[1;32m    778\u001b[0m \u001b[0;34m\u001b[0m\u001b[0m\n\u001b[1;32m    779\u001b[0m     \u001b[0;31m# Not necessary, but could provide an additional way in\u001b[0m\u001b[0;34m\u001b[0m\u001b[0;34m\u001b[0m\u001b[0;34m\u001b[0m\u001b[0m\n",
      "\u001b[0;31mValueError\u001b[0m: `scada` data is missing the following columns: ['status']\n`meter` data is missing the following columns: ['power']\n`tower` data is missing the following columns: ['time', 'id']\n`asset` data is missing the following columns: ['id', 'longitude', 'type', 'rated_power_kw', 'latitude']\n`status` data is missing the following columns: ['time', 'id', 'status_id', 'status_code', 'status_text']\n`reanalysis` data is missing the following columns: ['windspeed_ms', 'wind_direction', 'rho_kgm']\n`scada` data columns were of the wrong type: ['status']\n`meter` data columns were of the wrong type: ['power']\n`tower` data columns were of the wrong type: ['time', 'id']\n`asset` data columns were of the wrong type: ['id', 'latitude', 'longitude', 'rated_power_kw', 'type']\n`status` data columns were of the wrong type: ['time', 'id', 'status_id', 'status_code', 'status_text']\n`reanalysis` data columns were of the wrong type: ['windspeed_ms', 'wind_direction', 'rho_kgm']"
     ]
    }
   ],
   "source": [
    "plant.analysis_type = \"all\"\n",
    "plant.validate()"
   ]
  },
  {
   "cell_type": "code",
   "execution_count": 8,
   "metadata": {},
   "outputs": [
    {
     "ename": "ValueError",
     "evalue": "`reanalysis` data is missing the following columns: {'wind_direction'}\n`reanalysis` data columns were of the wrong type: {'wind_direction'}",
     "output_type": "error",
     "traceback": [
      "\u001b[0;31m---------------------------------------------------------------------------\u001b[0m",
      "\u001b[0;31mValueError\u001b[0m                                Traceback (most recent call last)",
      "\u001b[0;32m<ipython-input-8-e79c85dafdae>\u001b[0m in \u001b[0;36m<module>\u001b[0;34m\u001b[0m\n\u001b[1;32m      1\u001b[0m \u001b[0mplant\u001b[0m\u001b[0;34m.\u001b[0m\u001b[0manalysis_type\u001b[0m \u001b[0;34m=\u001b[0m \u001b[0;34m\"TurbineLongTermGrossEnergy\"\u001b[0m\u001b[0;34m\u001b[0m\u001b[0;34m\u001b[0m\u001b[0m\n\u001b[0;32m----> 2\u001b[0;31m \u001b[0mplant\u001b[0m\u001b[0;34m.\u001b[0m\u001b[0mvalidate\u001b[0m\u001b[0;34m(\u001b[0m\u001b[0;34m)\u001b[0m\u001b[0;34m\u001b[0m\u001b[0;34m\u001b[0m\u001b[0m\n\u001b[0m",
      "\u001b[0;32m~/Documents/GitHub/OpenOA/openoa/types/plant_v2.py\u001b[0m in \u001b[0;36mvalidate\u001b[0;34m(self, column_names, column_dtypes)\u001b[0m\n\u001b[1;32m    775\u001b[0m         \u001b[0merror_message\u001b[0m \u001b[0;34m=\u001b[0m \u001b[0mcompose_error_message\u001b[0m\u001b[0;34m(\u001b[0m\u001b[0merror_dict\u001b[0m\u001b[0;34m,\u001b[0m \u001b[0mself\u001b[0m\u001b[0;34m.\u001b[0m\u001b[0manalysis_type\u001b[0m\u001b[0;34m)\u001b[0m\u001b[0;34m\u001b[0m\u001b[0;34m\u001b[0m\u001b[0m\n\u001b[1;32m    776\u001b[0m         \u001b[0;32mif\u001b[0m \u001b[0merror_message\u001b[0m\u001b[0;34m:\u001b[0m\u001b[0;34m\u001b[0m\u001b[0;34m\u001b[0m\u001b[0m\n\u001b[0;32m--> 777\u001b[0;31m             \u001b[0;32mraise\u001b[0m \u001b[0mValueError\u001b[0m\u001b[0;34m(\u001b[0m\u001b[0merror_message\u001b[0m\u001b[0;34m)\u001b[0m\u001b[0;34m\u001b[0m\u001b[0;34m\u001b[0m\u001b[0m\n\u001b[0m\u001b[1;32m    778\u001b[0m \u001b[0;34m\u001b[0m\u001b[0m\n\u001b[1;32m    779\u001b[0m     \u001b[0;31m# Not necessary, but could provide an additional way in\u001b[0m\u001b[0;34m\u001b[0m\u001b[0;34m\u001b[0m\u001b[0;34m\u001b[0m\u001b[0m\n",
      "\u001b[0;31mValueError\u001b[0m: `reanalysis` data is missing the following columns: {'wind_direction'}\n`reanalysis` data columns were of the wrong type: {'wind_direction'}"
     ]
    }
   ],
   "source": [
    "plant.analysis_type = \"TurbineLongTermGrossEnergy\"\n",
    "plant.validate()"
   ]
  },
  {
   "cell_type": "code",
   "execution_count": 9,
   "metadata": {},
   "outputs": [],
   "source": [
    "plant.analysis_type = \"ElectricalLosses\"\n",
    "plant.validate()"
   ]
  },
  {
   "cell_type": "code",
   "execution_count": null,
   "metadata": {},
   "outputs": [],
   "source": []
  },
  {
   "cell_type": "code",
   "execution_count": null,
   "metadata": {},
   "outputs": [],
   "source": [
    "ANALYSIS_REQUIREMENTS = {\n",
    "    \"MonteCarloAEP\": {\n",
    "        \"meter\": {\n",
    "            \"columns\": [\"energy\"],\n",
    "            \"freq\": (\"MS\", \"D\", \"H\", \"T\"),\n",
    "        },\n",
    "        \"curtail\": {\n",
    "            \"columns\": [\"availability\", \"curtailment\"],\n",
    "            \"freq\": (\"MS\", \"D\", \"H\", \"T\"),\n",
    "        },\n",
    "        \"reanalysis\": {\n",
    "            \"columns\": [\"windspeed\", \"rho\"],\n",
    "            \"conditional_columns\": {\n",
    "                \"reg_temperature\": [\"temperature\"],\n",
    "                \"reg_winddirection\": [\"windspeed_u\", \"windspeed_v\"],\n",
    "            },\n",
    "        },\n",
    "    },\n",
    "    \"TurbineLongTermGrossEnergy\": {\n",
    "        \"scada\": {\n",
    "            \"columns\": [\"id\", \"windspeed\", \"power\"],  # TODO: wtur_W_avg vs energy_kwh ?\n",
    "            \"freq\": (\"D\", \"H\", \"T\"),\n",
    "        },\n",
    "        \"reanalysis\": {\n",
    "            \"columns\": [\"windspeed\", \"wind_direction\", \"rho\"],\n",
    "        },\n",
    "    },\n",
    "    \"ElectricalLosses\": {\n",
    "        \"scada\": {\n",
    "            \"columns\": [\"energy\"],\n",
    "            \"freq\": (\"D\", \"H\", \"T\"),\n",
    "        },\n",
    "        \"meter\": {\n",
    "            \"columns\": [\"energy\"],\n",
    "            \"freq\": (\"MS\", \"D\", \"H\", \"T\"),\n",
    "        },\n",
    "    },\n",
    "}"
   ]
  },
  {
   "cell_type": "code",
   "execution_count": null,
   "metadata": {},
   "outputs": [],
   "source": []
  }
 ],
 "metadata": {
  "kernelspec": {
   "display_name": "Python 3",
   "language": "python",
   "name": "python3"
  },
  "language_info": {
   "codemirror_mode": {
    "name": "ipython",
    "version": 3
   },
   "file_extension": ".py",
   "mimetype": "text/x-python",
   "name": "python",
   "nbconvert_exporter": "python",
   "pygments_lexer": "ipython3",
   "version": "3.8.5"
  }
 },
 "nbformat": 4,
 "nbformat_minor": 4
}
