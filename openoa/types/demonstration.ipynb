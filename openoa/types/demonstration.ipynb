{
 "cells": [
  {
   "cell_type": "code",
   "execution_count": 1,
   "metadata": {},
   "outputs": [],
   "source": [
    "from pathlib import Path\n",
    "from pprint import pprint\n",
    "\n",
    "import numpy as np\n",
    "import pandas as pd\n",
    "\n",
    "from openoa.types.plant_v2 import PlantDataV3, PlantMetaData"
   ]
  },
  {
   "cell_type": "code",
   "execution_count": 2,
   "metadata": {},
   "outputs": [],
   "source": [
    "fpath = Path(\"/Users/rhammond/Documents/GitHub/OpenOA/examples/data/la_haute_borne\")\n",
    "fn_scada = \"la-haute-borne-data-2014-2015.csv\"\n",
    "fn_meter = \"plant_data.csv\"\n",
    "fn_curtail = \"plant_data.csv\"\n",
    "fn_reanalysis = \"merra2_la_haute_borne.csv\"\n",
    "fn_asset = \"la-haute-borne_asset_table.csv\"\n",
    "\n",
    "scada = pd.read_csv(fpath / fn_scada)\n",
    "meter = pd.read_csv(fpath / fn_meter)\n",
    "curtail = pd.read_csv(fpath / fn_curtail)\n",
    "reanalysis = pd.read_csv(fpath / fn_reanalysis)\n",
    "asset = pd.read_csv(fpath / fn_asset)"
   ]
  },
  {
   "cell_type": "code",
   "execution_count": 3,
   "metadata": {},
   "outputs": [],
   "source": [
    "column_mapping = dict(\n",
    "    scada=dict(\n",
    "        time=\"Date_time\",\n",
    "        id=\"Wind_turbine_name\",\n",
    "        power=\"P_avg\",\n",
    "        windspeed=\"Ws_avg\",\n",
    "        wind_direction=\"Wa_avg\",\n",
    "#         status=\"?\",\n",
    "        pitch=\"Ba_avg\",\n",
    "        temperature=\"Ot_avg\",\n",
    "        frequency=\"10T\",\n",
    "    ),\n",
    "    meter=dict(\n",
    "        time=\"time_utc\",\n",
    "#         power=\"?\",\n",
    "        energy=\"net_energy_kwh\",\n",
    "    ),\n",
    "    curtail=dict(\n",
    "        time=\"time_utc\",\n",
    "        curtailment=\"curtailment_kwh\",\n",
    "        availability=\"availability_kwh\",\n",
    "        net_energy=\"net_energy_kwh\",\n",
    "        frequency=\"10T\",\n",
    "    ),\n",
    "    reanalysis=dict(\n",
    "        time=\"datetime\",\n",
    "        windspeed=\"windspeed_ms\",\n",
    "        windspeed_u=\"u_ms\",\n",
    "        windspeed_v=\"v_ms\",\n",
    "        temperature=\"temperature_K\",\n",
    "        rho=\"rho_kgm\",\n",
    "        frequency=\"10T\",\n",
    "#         product=\"merra2\",\n",
    "    ),\n",
    "    asset=dict(\n",
    "        id=\"id\",\n",
    "        latitude=\"latitude\",\n",
    "        longitude=\"longitude\",\n",
    "        rated_power=\"rated_power_kw\",\n",
    "#         type=\"?\",\n",
    "    ),\n",
    ")"
   ]
  },
  {
   "cell_type": "code",
   "execution_count": 4,
   "metadata": {},
   "outputs": [],
   "source": [
    "plant_meta = PlantMetaData.from_dict(column_mapping)"
   ]
  },
  {
   "cell_type": "code",
   "execution_count": 5,
   "metadata": {},
   "outputs": [
    {
     "name": "stdout",
     "output_type": "stream",
     "text": [
      "{'dtype': {'asset': ['id', 'latitude', 'longitude', 'rated_power_kw', 'type'],\n",
      "           'curtail': [],\n",
      "           'meter': ['power'],\n",
      "           'scada': ['status'],\n",
      "           'status': ['time', 'id', 'status_id', 'status_code', 'status_text'],\n",
      "           'tower': ['time', 'id']},\n",
      " 'missing': {'asset': ['id', 'type', 'rated_power_kw', 'latitude', 'longitude'],\n",
      "             'curtail': [],\n",
      "             'meter': ['power'],\n",
      "             'scada': ['status'],\n",
      "             'status': ['time',\n",
      "                        'id',\n",
      "                        'status_id',\n",
      "                        'status_code',\n",
      "                        'status_text'],\n",
      "             'tower': ['time', 'id']}}\n",
      "{'dtype': {'asset': ['id', 'latitude', 'longitude', 'rated_power_kw', 'type'],\n",
      "           'curtail': [],\n",
      "           'meter': ['power'],\n",
      "           'scada': ['status'],\n",
      "           'status': ['time', 'id', 'status_id', 'status_code', 'status_text'],\n",
      "           'tower': ['time', 'id']},\n",
      " 'missing': {'asset': set(),\n",
      "             'curtail': set(),\n",
      "             'meter': set(),\n",
      "             'reanalysis': set(),\n",
      "             'scada': set(),\n",
      "             'tower': set()}}\n"
     ]
    },
    {
     "ename": "ValueError",
     "evalue": "`scada` data columns were of the wrong type: ['status']\n`meter` data columns were of the wrong type: ['power']\n`tower` data columns were of the wrong type: ['time', 'id']\n`status` data columns were of the wrong type: ['time', 'id', 'status_id', 'status_code', 'status_text']\n`asset` data columns were of the wrong type: ['id', 'latitude', 'longitude', 'rated_power_kw', 'type']",
     "output_type": "error",
     "traceback": [
      "\u001b[0;31m---------------------------------------------------------------------------\u001b[0m",
      "\u001b[0;31mValueError\u001b[0m                                Traceback (most recent call last)",
      "\u001b[0;32m<ipython-input-5-76cc970cbf72>\u001b[0m in \u001b[0;36m<module>\u001b[0;34m\u001b[0m\n\u001b[0;32m----> 1\u001b[0;31m plant = PlantDataV3(\n\u001b[0m\u001b[1;32m      2\u001b[0m     \u001b[0mmetadata\u001b[0m\u001b[0;34m=\u001b[0m\u001b[0mcolumn_mapping\u001b[0m\u001b[0;34m,\u001b[0m\u001b[0;34m\u001b[0m\u001b[0;34m\u001b[0m\u001b[0m\n\u001b[1;32m      3\u001b[0m     \u001b[0mscada\u001b[0m\u001b[0;34m=\u001b[0m\u001b[0mscada\u001b[0m\u001b[0;34m,\u001b[0m\u001b[0;34m\u001b[0m\u001b[0;34m\u001b[0m\u001b[0m\n\u001b[1;32m      4\u001b[0m     \u001b[0mmeter\u001b[0m\u001b[0;34m=\u001b[0m\u001b[0mmeter\u001b[0m\u001b[0;34m,\u001b[0m\u001b[0;34m\u001b[0m\u001b[0;34m\u001b[0m\u001b[0m\n\u001b[1;32m      5\u001b[0m     \u001b[0mcurtail\u001b[0m\u001b[0;34m=\u001b[0m\u001b[0mcurtail\u001b[0m\u001b[0;34m,\u001b[0m\u001b[0;34m\u001b[0m\u001b[0;34m\u001b[0m\u001b[0m\n",
      "\u001b[0;32m<attrs generated init openoa.types.plant_v2.PlantDataV3>\u001b[0m in \u001b[0;36m__init__\u001b[0;34m(self, metadata, analysis_type, scada, meter, tower, status, curtail, asset, reanalysis)\u001b[0m\n\u001b[1;32m     19\u001b[0m         \u001b[0m__attr_validator_curtail\u001b[0m\u001b[0;34m(\u001b[0m\u001b[0mself\u001b[0m\u001b[0;34m,\u001b[0m \u001b[0m__attr_curtail\u001b[0m\u001b[0;34m,\u001b[0m \u001b[0mself\u001b[0m\u001b[0;34m.\u001b[0m\u001b[0mcurtail\u001b[0m\u001b[0;34m)\u001b[0m\u001b[0;34m\u001b[0m\u001b[0;34m\u001b[0m\u001b[0m\n\u001b[1;32m     20\u001b[0m         \u001b[0m__attr_validator_asset\u001b[0m\u001b[0;34m(\u001b[0m\u001b[0mself\u001b[0m\u001b[0;34m,\u001b[0m \u001b[0m__attr_asset\u001b[0m\u001b[0;34m,\u001b[0m \u001b[0mself\u001b[0m\u001b[0;34m.\u001b[0m\u001b[0masset\u001b[0m\u001b[0;34m)\u001b[0m\u001b[0;34m\u001b[0m\u001b[0;34m\u001b[0m\u001b[0m\n\u001b[0;32m---> 21\u001b[0;31m     \u001b[0mself\u001b[0m\u001b[0;34m.\u001b[0m\u001b[0m__attrs_post_init__\u001b[0m\u001b[0;34m(\u001b[0m\u001b[0;34m)\u001b[0m\u001b[0;34m\u001b[0m\u001b[0;34m\u001b[0m\u001b[0m\n\u001b[0m",
      "\u001b[0;32m~/Documents/GitHub/OpenOA/openoa/types/plant_v2.py\u001b[0m in \u001b[0;36m__attrs_post_init__\u001b[0;34m(self)\u001b[0m\n\u001b[1;32m    660\u001b[0m         \u001b[0;32mif\u001b[0m \u001b[0merror_message\u001b[0m \u001b[0;34m!=\u001b[0m \u001b[0;34m\"\"\u001b[0m\u001b[0;34m:\u001b[0m\u001b[0;34m\u001b[0m\u001b[0;34m\u001b[0m\u001b[0m\n\u001b[1;32m    661\u001b[0m             \u001b[0;31m# raise ValueError(\"\\n\".join(itertools.chain(*self._errors.values())))\u001b[0m\u001b[0;34m\u001b[0m\u001b[0;34m\u001b[0m\u001b[0;34m\u001b[0m\u001b[0m\n\u001b[0;32m--> 662\u001b[0;31m             \u001b[0;32mraise\u001b[0m \u001b[0mValueError\u001b[0m\u001b[0;34m(\u001b[0m\u001b[0merror_message\u001b[0m\u001b[0;34m)\u001b[0m\u001b[0;34m\u001b[0m\u001b[0;34m\u001b[0m\u001b[0m\n\u001b[0m\u001b[1;32m    663\u001b[0m \u001b[0;34m\u001b[0m\u001b[0m\n\u001b[1;32m    664\u001b[0m     \u001b[0;34m@\u001b[0m\u001b[0mscada\u001b[0m\u001b[0;34m.\u001b[0m\u001b[0mvalidator\u001b[0m\u001b[0;34m\u001b[0m\u001b[0;34m\u001b[0m\u001b[0m\n",
      "\u001b[0;31mValueError\u001b[0m: `scada` data columns were of the wrong type: ['status']\n`meter` data columns were of the wrong type: ['power']\n`tower` data columns were of the wrong type: ['time', 'id']\n`status` data columns were of the wrong type: ['time', 'id', 'status_id', 'status_code', 'status_text']\n`asset` data columns were of the wrong type: ['id', 'latitude', 'longitude', 'rated_power_kw', 'type']"
     ]
    }
   ],
   "source": [
    "plant = PlantDataV3(\n",
    "    metadata=column_mapping,\n",
    "    scada=scada,\n",
    "    meter=meter,\n",
    "    curtail=curtail,\n",
    "    reanalysis=reanalysis,\n",
    "    asset=asset,\n",
    "    analysis_type=\"MonteCarloAEP\"\n",
    ")"
   ]
  },
  {
   "cell_type": "code",
   "execution_count": null,
   "metadata": {},
   "outputs": [],
   "source": []
  },
  {
   "cell_type": "code",
   "execution_count": null,
   "metadata": {},
   "outputs": [],
   "source": []
  },
  {
   "cell_type": "code",
   "execution_count": null,
   "metadata": {},
   "outputs": [],
   "source": [
    "ANALYSIS_REQUIREMENTS = {\n",
    "    \"MonteCarloAEP\": {\n",
    "        \"meter\": {\n",
    "            \"columns\": [\"energy\"],\n",
    "            \"freq\": (\"MS\", \"D\", \"H\", \"T\"),\n",
    "        },\n",
    "        \"curtail\": {\n",
    "            \"columns\": [\"availability\", \"curtailment\"],\n",
    "            \"freq\": (\"MS\", \"D\", \"H\", \"T\"),\n",
    "        },\n",
    "        \"reanalysis\": {\n",
    "            \"columns\": [\"windspeed\", \"rho\"],\n",
    "            \"conditional_columns\": {\n",
    "                \"reg_temperature\": [\"temperature\"],\n",
    "                \"reg_winddirection\": [\"windspeed_u\", \"windspeed_v\"],\n",
    "            },\n",
    "        },\n",
    "    },\n",
    "    \"TurbineLongTermGrossEnergy\": {\n",
    "        \"scada\": {\n",
    "            \"columns\": [\"id\", \"windspeed\", \"power\"],  # TODO: wtur_W_avg vs energy_kwh ?\n",
    "            \"freq\": (\"D\", \"H\", \"T\"),\n",
    "        },\n",
    "        \"reanalysis\": {\n",
    "            \"columns\": [\"windspeed\", \"wind_direction\", \"rho\"],\n",
    "        },\n",
    "    },\n",
    "    \"ElectricalLosses\": {\n",
    "        \"scada\": {\n",
    "            \"columns\": [\"energy\"],\n",
    "            \"freq\": (\"D\", \"H\", \"T\"),\n",
    "        },\n",
    "        \"meter\": {\n",
    "            \"columns\": [\"energy\"],\n",
    "            \"freq\": (\"MS\", \"D\", \"H\", \"T\"),\n",
    "        },\n",
    "    },\n",
    "}"
   ]
  },
  {
   "cell_type": "code",
   "execution_count": null,
   "metadata": {},
   "outputs": [],
   "source": [
    "categories = (\"scada\", \"meter\", \"tower\", \"curtail\", \"reanalysis\", \"asset\")\n",
    "analysis_types = [*ANALYSIS_REQUIREMENTS]\n",
    "requirements = {key: ANALYSIS_REQUIREMENTS[key] for key in analysis_types}\n",
    "column_requirements = {cat: \n",
    "    list(itertools.chain(*[r.get(cat, {}).get(\"columns\", []) for r in requirements.values()]))\n",
    "    for cat in categories\n",
    "}\n",
    "column_requirements"
   ]
  },
  {
   "cell_type": "code",
   "execution_count": null,
   "metadata": {},
   "outputs": [],
   "source": [
    "requirements.get(\"scada\", {})"
   ]
  },
  {
   "cell_type": "code",
   "execution_count": null,
   "metadata": {},
   "outputs": [],
   "source": [
    "error_dict = {\n",
    "    'dtype': {\n",
    "        'asset': ['id', 'latitude', 'longitude', 'rated_power_kw', 'type'],\n",
    "        'curtail': [],\n",
    "        'meter': ['power'],\n",
    "        'scada': ['status'],\n",
    "    },\n",
    "    'missing': {\n",
    "        'asset': ['longitude', 'type', 'latitude', 'id', 'rated_power_kw'],\n",
    "        'curtail': [],\n",
    "        'meter': ['power'],\n",
    "        'scada': ['status'],\n",
    "    },\n",
    "}\n",
    "\n",
    "categories = (\"scada\", \"meter\", \"tower\", \"curtail\", \"reanalysis\", \"asset\")\n",
    "analysis_types = [*ANALYSIS_REQUIREMENTS]\n",
    "requirements = {key: ANALYSIS_REQUIREMENTS[key] for key in analysis_types}\n",
    "column_requirements = {cat: \n",
    "    set(itertools.chain(*[r.get(cat, {}).get(\"columns\", []) for r in requirements.values()]))\n",
    "    for cat in categories\n",
    "}\n",
    "error_dict[\"missing\"] = {\n",
    "    key: values.intersection(error_dict[\"missing\"][key])\n",
    "    for key, values in column_requirements.items()\n",
    "}\n",
    "error_dict[\"missing\"]"
   ]
  },
  {
   "cell_type": "code",
   "execution_count": null,
   "metadata": {},
   "outputs": [],
   "source": []
  }
 ],
 "metadata": {
  "kernelspec": {
   "display_name": "Python 3",
   "language": "python",
   "name": "python3"
  },
  "language_info": {
   "codemirror_mode": {
    "name": "ipython",
    "version": 3
   },
   "file_extension": ".py",
   "mimetype": "text/x-python",
   "name": "python",
   "nbconvert_exporter": "python",
   "pygments_lexer": "ipython3",
   "version": "3.8.5"
  }
 },
 "nbformat": 4,
 "nbformat_minor": 4
}
