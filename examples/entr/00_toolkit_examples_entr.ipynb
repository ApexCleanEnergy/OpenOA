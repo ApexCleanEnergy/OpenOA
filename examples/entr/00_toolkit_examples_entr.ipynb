{
 "cells": [
  {
   "cell_type": "markdown",
   "metadata": {},
   "source": [
    "## Use ENGIE’s open data set\n",
    "\n",
    "ENGIE provides access to the data of its 'La Haute Borne' wind farm through https://opendata-renewables.engie.com and through an API. The data can be used to create additional turbine objects and gives users the opportunity to work with further real-world data. \n",
    "\n",
    "The series of notebooks in the 'examples' folder uses SCADA data downloaded from https://opendata-renewables.engie.com, saved in the 'examples/data' folder. Additional plant level meter, availability, and curtailment data were synthesized based on the SCADA data.\n",
    "\n",
    "In the following example, data is loaded into a turbine object and plotted as a power curve. The selected turbine can be changed if desired."
   ]
  },
  {
   "cell_type": "markdown",
   "metadata": {},
   "source": [
    "### Connect to the ENTR Warehouse"
   ]
  },
  {
   "cell_type": "code",
   "execution_count": 1,
   "metadata": {},
   "outputs": [],
   "source": [
    "%load_ext autoreload\n",
    "%autoreload 2"
   ]
  },
  {
   "cell_type": "code",
   "execution_count": 2,
   "metadata": {},
   "outputs": [],
   "source": [
    "import pandas as pd"
   ]
  },
  {
   "cell_type": "code",
   "execution_count": 3,
   "metadata": {
    "collapsed": false,
    "jupyter": {
     "outputs_hidden": false
    },
    "pycharm": {
     "name": "#%%\n"
    }
   },
   "outputs": [],
   "source": [
    "from operational_analysis.types import PlantData\n",
    "from operational_analysis.toolkits import unit_conversion as un"
   ]
  },
  {
   "cell_type": "code",
   "execution_count": 4,
   "metadata": {},
   "outputs": [
    {
     "name": "stderr",
     "output_type": "stream",
     "text": [
      "INFO:pyhive.hive:USE `default`\n",
      "/opt/conda/lib/python3.9/site-packages/pandas/io/sql.py:761: UserWarning: pandas only support SQLAlchemy connectable(engine/connection) ordatabase string URI or sqlite3 DBAPI2 connectionother DBAPI2 objects are not tested, please consider using SQLAlchemy\n",
      "  warnings.warn(\n",
      "INFO:pyhive.hive:\n",
      "    SELECT\n",
      "        plant_id,\n",
      "        plant_name,\n",
      "        latitude,\n",
      "        longitude,\n",
      "        plant_capacity,\n",
      "        number_of_turbines,\n",
      "        turbine_capacity\n",
      "    FROM\n",
      "        entr_warehouse.dim_asset_wind_plant\n",
      "    WHERE\n",
      "        plant_name = \"La Haute Borne\";\n",
      "    \n",
      "/opt/conda/lib/python3.9/site-packages/pandas/io/sql.py:761: UserWarning: pandas only support SQLAlchemy connectable(engine/connection) ordatabase string URI or sqlite3 DBAPI2 connectionother DBAPI2 objects are not tested, please consider using SQLAlchemy\n",
      "  warnings.warn(\n",
      "INFO:pyhive.hive:\n",
      "    SELECT\n",
      "        plant_id,\n",
      "        wind_turbine_id,\n",
      "        wind_turbine_name,\n",
      "        latitude,\n",
      "        longitude,\n",
      "        elevation,\n",
      "        hub_height,\n",
      "        rotor_diameter,\n",
      "        rated_power,\n",
      "        manufacturer,\n",
      "        model\n",
      "    FROM\n",
      "        entr_warehouse.dim_asset_wind_turbine\n",
      "    WHERE\n",
      "        plant_id = 1;\n",
      "    \n",
      "/opt/conda/lib/python3.9/site-packages/pandas/io/sql.py:761: UserWarning: pandas only support SQLAlchemy connectable(engine/connection) ordatabase string URI or sqlite3 DBAPI2 connectionother DBAPI2 objects are not tested, please consider using SQLAlchemy\n",
      "  warnings.warn(\n",
      "INFO:pyhive.hive:\n",
      "    SELECT\n",
      "        interval_n,\n",
      "        interval_units,\n",
      "        value_type,\n",
      "        value_units\n",
      "    FROM\n",
      "        entr_warehouse.openoa_wtg_scada_tag_metadata\n",
      "    WHERE\n",
      "        entr_tag_name = 'WTUR.W';\n",
      "    \n",
      "/opt/conda/lib/python3.9/site-packages/pandas/io/sql.py:761: UserWarning: pandas only support SQLAlchemy connectable(engine/connection) ordatabase string URI or sqlite3 DBAPI2 connectionother DBAPI2 objects are not tested, please consider using SQLAlchemy\n",
      "  warnings.warn(\n",
      "INFO:pyhive.hive:\n",
      "    SELECT\n",
      "        entr_warehouse.openoa_wtg_scada.wind_turbine_name,\n",
      "        date_time,\n",
      "        `WROT.BlPthAngVal`,\n",
      "        `WTUR.W`,\n",
      "        `WMET.HorWdSpd`,\n",
      "        `WMET.HorWdDirRel`,\n",
      "        `WMET.EnvTmp`,\n",
      "        `WNAC.Dir`,\n",
      "        `WMET.HorWdDir`\n",
      "    FROM\n",
      "        entr_warehouse.openoa_wtg_scada\n",
      "    WHERE\n",
      "        plant_id = 1;\n",
      "    \n",
      "/opt/conda/lib/python3.9/site-packages/pandas/io/sql.py:761: UserWarning: pandas only support SQLAlchemy connectable(engine/connection) ordatabase string URI or sqlite3 DBAPI2 connectionother DBAPI2 objects are not tested, please consider using SQLAlchemy\n",
      "  warnings.warn(\n",
      "INFO:pyhive.hive:\n",
      "    SELECT\n",
      "        interval_n,\n",
      "        interval_units,\n",
      "        value_type,\n",
      "        value_units\n",
      "    FROM\n",
      "        entr_warehouse.openoa_curtailment_and_availability_tag_metadata\n",
      "    WHERE\n",
      "        entr_tag_name in ('IAVL.DnWh', 'IAVL.ExtPwrDnWh')\n",
      "    \n",
      "/opt/conda/lib/python3.9/site-packages/pandas/io/sql.py:761: UserWarning: pandas only support SQLAlchemy connectable(engine/connection) ordatabase string URI or sqlite3 DBAPI2 connectionother DBAPI2 objects are not tested, please consider using SQLAlchemy\n",
      "  warnings.warn(\n",
      "INFO:pyhive.hive:\n",
      "    SELECT\n",
      "        date_time,\n",
      "        `IAVL.DnWh`,\n",
      "        `IAVL.ExtPwrDnWh`\n",
      "    FROM\n",
      "        entr_warehouse.openoa_curtailment_and_availability\n",
      "    WHERE\n",
      "        plant_id = 1\n",
      "    ORDER BY\n",
      "        date_time;\n",
      "    \n",
      "/opt/conda/lib/python3.9/site-packages/pandas/io/sql.py:761: UserWarning: pandas only support SQLAlchemy connectable(engine/connection) ordatabase string URI or sqlite3 DBAPI2 connectionother DBAPI2 objects are not tested, please consider using SQLAlchemy\n",
      "  warnings.warn(\n",
      "INFO:pyhive.hive:\n",
      "    SELECT\n",
      "        interval_n,\n",
      "        interval_units,\n",
      "        value_type,\n",
      "        value_units\n",
      "    FROM\n",
      "        entr_warehouse.openoa_revenue_meter_tag_metadata\n",
      "    WHERE\n",
      "        entr_tag_name = 'MMTR.SupWh'\n",
      "    \n",
      "/opt/conda/lib/python3.9/site-packages/pandas/io/sql.py:761: UserWarning: pandas only support SQLAlchemy connectable(engine/connection) ordatabase string URI or sqlite3 DBAPI2 connectionother DBAPI2 objects are not tested, please consider using SQLAlchemy\n",
      "  warnings.warn(\n",
      "INFO:pyhive.hive:\n",
      "    SELECT\n",
      "        date_time,\n",
      "        `MMTR.SupWh`\n",
      "    FROM\n",
      "        entr_warehouse.openoa_revenue_meter\n",
      "    WHERE\n",
      "        plant_id = 1;\n",
      "    \n",
      "/opt/conda/lib/python3.9/site-packages/pandas/io/sql.py:761: UserWarning: pandas only support SQLAlchemy connectable(engine/connection) ordatabase string URI or sqlite3 DBAPI2 connectionother DBAPI2 objects are not tested, please consider using SQLAlchemy\n",
      "  warnings.warn(\n",
      "INFO:pyhive.hive:\n",
      "        SELECT\n",
      "            date_time,\n",
      "            `WMETR.HorWdSpdU`,\n",
      "            `WMETR.HorWdSpdV`,\n",
      "            `WMETR.EnvTmp`,\n",
      "            `WMETR.EnvPres`,\n",
      "            `WMETR.HorWdSpd`,\n",
      "            `WMETR.HorWdDir`,\n",
      "            `WMETR.AirDen`\n",
      "        FROM\n",
      "            entr_warehouse.openoa_reanalysis\n",
      "        WHERE\n",
      "            plant_id = 1 AND\n",
      "            reanalysis_dataset_name = \"ERA5\";\n",
      "        \n"
     ]
    }
   ],
   "source": [
    "plant = PlantData.from_entr(reanalysis_products=[\"era5\"])"
   ]
  },
  {
   "cell_type": "code",
   "execution_count": 5,
   "metadata": {},
   "outputs": [
    {
     "name": "stdout",
     "output_type": "stream",
     "text": [
      "Plant Name: La Haute Borne\n",
      "===============\n",
      "meter freq 10T\n",
      "curtail freq 10T\n",
      "scada freq 10T\n",
      "plant capacity 8.2\n",
      "num turbines 4\n",
      "turbine capacity 2.05\n",
      "latitude, longitude (48.452, 5.588)\n",
      "\n",
      "*** SCADA ***\n",
      "                         id                time  wrot_BlPthAngVal1_avg  \\\n",
      "time                                                                     \n",
      "2014-05-14 20:50:00  R80736 2014-05-14 20:50:00                  -0.99   \n",
      "2014-05-15 02:50:00  R80721 2014-05-15 02:50:00                  -1.00   \n",
      "2014-05-15 10:00:00  R80736 2014-05-15 10:00:00                  -0.99   \n",
      "2014-05-15 11:20:00  R80711 2014-05-15 11:20:00                  -0.99   \n",
      "2014-05-15 13:20:00  R80736 2014-05-15 13:20:00                  -0.99   \n",
      "\n",
      "                     wtur_W_avg  wmet_wdspd_avg  wmet_HorWdDir_avg  \\\n",
      "time                                                                 \n",
      "2014-05-14 20:50:00   995489.99            8.49               6.12   \n",
      "2014-05-15 02:50:00   988989.99            8.08               2.11   \n",
      "2014-05-15 10:00:00   381420.01            6.40               6.97   \n",
      "2014-05-15 11:20:00   739859.99            7.90               3.09   \n",
      "2014-05-15 13:20:00   374390.01            6.16               5.33   \n",
      "\n",
      "                     wmet_EnvTmp_avg  wyaw_YwAng_avg  wmet_VaneDir_avg  \\\n",
      "time                                                                     \n",
      "2014-05-14 20:50:00             8.82       324.69000         341.14999   \n",
      "2014-05-15 02:50:00             6.60       358.73001           0.88000   \n",
      "2014-05-15 10:00:00            11.57       356.94000          22.58000   \n",
      "2014-05-15 11:20:00            11.18       346.76999         352.57999   \n",
      "2014-05-15 13:20:00            10.19        13.42000          18.68000   \n",
      "\n",
      "                                   time  energy_kwh  \n",
      "time                                                 \n",
      "2014-05-14 20:50:00 2014-05-14 20:50:00  165.914998  \n",
      "2014-05-15 02:50:00 2014-05-15 02:50:00  164.831665  \n",
      "2014-05-15 10:00:00 2014-05-15 10:00:00   63.570002  \n",
      "2014-05-15 11:20:00 2014-05-15 11:20:00  123.309998  \n",
      "2014-05-15 13:20:00 2014-05-15 13:20:00   62.398335  \n",
      "\n",
      "*** ASSET ***\n",
      "   plant_id  wind_turbine_id wind_turbine_name  latitude  longitude  \\\n",
      "0         1                4            R80790   48.4536     5.5875   \n",
      "1         1                1            R80711   48.4569     5.5847   \n",
      "2         1                3            R80736   48.4461     5.5925   \n",
      "3         1                2            R80721   48.4497     5.5869   \n",
      "\n",
      "   elevation  hub_height  rotor_diameter  rated_power manufacturer model  \n",
      "0      411.0        80.0            82.0       2050.0      Senvion  MM82  \n",
      "1      411.0        80.0            82.0       2050.0      Senvion  MM82  \n",
      "2      411.0        80.0            82.0       2050.0      Senvion  MM82  \n",
      "3      411.0        80.0            82.0       2050.0      Senvion  MM82  \n",
      "\n",
      "*** METER ***\n",
      "                              date_time  energy_kwh                time\n",
      "time                                                                   \n",
      "2014-01-01 10:40:00 2014-01-01 10:40:00     261.913 2014-01-01 10:40:00\n",
      "2014-01-01 12:00:00 2014-01-01 12:00:00     347.292 2014-01-01 12:00:00\n",
      "2014-01-01 14:30:00 2014-01-01 14:30:00     403.773 2014-01-01 14:30:00\n",
      "2014-01-03 13:30:00 2014-01-03 13:30:00     636.471 2014-01-03 13:30:00\n",
      "2014-01-03 21:10:00 2014-01-03 21:10:00     647.354 2014-01-03 21:10:00\n",
      "\n",
      "*** CURTIAL ***\n",
      "                                   time  availability_kwh  curtailment_kwh\n",
      "time                                                                      \n",
      "2014-01-01 00:00:00 2014-01-01 00:00:00               0.0              0.0\n",
      "2014-01-01 00:10:00 2014-01-01 00:10:00               0.0              0.0\n",
      "2014-01-01 00:20:00 2014-01-01 00:20:00               0.0              0.0\n",
      "2014-01-01 00:30:00 2014-01-01 00:30:00               0.0              0.0\n",
      "2014-01-01 00:40:00 2014-01-01 00:40:00               0.0              0.0\n",
      "\n",
      "*** REANALYSIS ***\n",
      "\tProduct = era5\n",
      "                    date_time WMETR.HorWdSpdU WMETR.HorWdSpdV WMETR.EnvTmp  \\\n",
      "time                                                                         \n",
      "2019-02-20 16:00:00      None            None            None         None   \n",
      "2019-04-08 04:00:00      None            None            None         None   \n",
      "2019-04-21 20:00:00      None            None            None         None   \n",
      "2019-04-23 20:00:00      None            None            None         None   \n",
      "2019-05-08 03:00:00      None            None            None         None   \n",
      "\n",
      "                     WMETR.EnvPres WMETR.HorWdSpd  WMETR.HorWdDir  \\\n",
      "time                                                                \n",
      "2019-02-20 16:00:00     98456.3125           None      213.690068   \n",
      "2019-04-08 04:00:00     97045.3125           None      262.626234   \n",
      "2019-04-21 20:00:00     97494.0000           None       80.706691   \n",
      "2019-04-23 20:00:00     95955.1875           None      201.447736   \n",
      "2019-05-08 03:00:00     96872.0000           None      188.054414   \n",
      "\n",
      "                    WMETR.AirDen  winddirection_deg                time  \\\n",
      "time                                                                      \n",
      "2019-02-20 16:00:00         None         213.690068 2019-02-20 16:00:00   \n",
      "2019-04-08 04:00:00         None         262.626234 2019-04-08 04:00:00   \n",
      "2019-04-21 20:00:00         None          80.706691 2019-04-21 20:00:00   \n",
      "2019-04-23 20:00:00         None         201.447736 2019-04-23 20:00:00   \n",
      "2019-05-08 03:00:00         None         188.054414 2019-05-08 03:00:00   \n",
      "\n",
      "                     windspeed_ms    u_ms    v_ms  temperature_K  rho_kgm-3  \n",
      "time                                                                         \n",
      "2019-02-20 16:00:00      2.704163  1.5000  2.2500       285.6250   1.197600  \n",
      "2019-04-08 04:00:00      5.356801  5.3125  0.6875       280.6250   1.202319  \n",
      "2019-04-21 20:00:00      6.966437 -6.8750 -1.1250       288.3125   1.174213  \n",
      "2019-04-23 20:00:00      3.760402  1.3750  3.5000       287.0625   1.160942  \n",
      "2019-05-08 03:00:00      6.691004  0.9375  6.6250       281.7500   1.195198  \n"
     ]
    }
   ],
   "source": [
    "print(\"Plant Name:\", plant.name)\n",
    "\n",
    "print(\"===============\")\n",
    "\n",
    "print(\"meter freq\", plant._meter_freq)\n",
    "print(\"curtail freq\", plant._curtail_freq)\n",
    "print(\"scada freq\", plant._scada_freq)\n",
    "print(\"plant capacity\", plant._plant_capacity)\n",
    "print(\"num turbines\", plant._num_turbines)\n",
    "print(\"turbine capacity\", plant._turbine_capacity)\n",
    "\n",
    "print(\"latitude, longitude\", (plant.latitude, plant.longitude))\n",
    "print(\"\")\n",
    "print(\"*** SCADA ***\")\n",
    "print(plant.scada.df.head())\n",
    "print(\"\")\n",
    "print(\"*** ASSET ***\")\n",
    "print(plant.asset.head())\n",
    "print(\"\")\n",
    "print(\"*** METER ***\")\n",
    "print(plant.meter.df.head())\n",
    "print(\"\")\n",
    "print(\"*** CURTIAL ***\")\n",
    "print(plant.curtail.df.head())\n",
    "print(\"\")\n",
    "print(\"*** REANALYSIS ***\")\n",
    "for product in plant.reanalysis._product.keys():\n",
    "    if plant.reanalysis._product[product].df is not None:\n",
    "        print(\"\\tProduct = \"+product)\n",
    "        print(plant.reanalysis._product[product.lower()].df.head())"
   ]
  },
  {
   "cell_type": "code",
   "execution_count": 6,
   "metadata": {},
   "outputs": [],
   "source": [
    "import matplotlib.pyplot as plt\n",
    "import numpy as np\n",
    "# import databricks.koalas as pd # replaces: 'import pandas as pd'\n",
    "\n",
    "from operational_analysis.toolkits import filters\n",
    "from operational_analysis.toolkits import power_curve\n",
    "\n",
    "import random\n",
    "import pandas as pd\n",
    "\n",
    "import time\n",
    "\n",
    "project = plant"
   ]
  },
  {
   "cell_type": "markdown",
   "metadata": {},
   "source": [
    "### Import the data"
   ]
  },
  {
   "cell_type": "code",
   "execution_count": 7,
   "metadata": {},
   "outputs": [
    {
     "data": {
      "text/plain": [
       "array(['R80736', 'R80721', 'R80711', 'R80790'], dtype=object)"
      ]
     },
     "execution_count": 7,
     "metadata": {},
     "output_type": "execute_result"
    }
   ],
   "source": [
    "# List of turbines\n",
    "turb_list = project.scada.df.id.unique()\n",
    "turb_list"
   ]
  },
  {
   "cell_type": "markdown",
   "metadata": {},
   "source": [
    "Let's examine the first turbine from the list above."
   ]
  },
  {
   "cell_type": "code",
   "execution_count": 8,
   "metadata": {},
   "outputs": [],
   "source": [
    "df = project.scada.df.loc[project.scada.df['id'] == turb_list[0]]\n",
    "windspeed = df[\"wmet_wdspd_avg\"]\n",
    "power_kw = df[\"wtur_W_avg\"]/1000 # Put into kW\n"
   ]
  },
  {
   "cell_type": "code",
   "execution_count": 9,
   "metadata": {},
   "outputs": [],
   "source": [
    "def plot_flagged_pc(ws, p, flag_bool, alpha):\n",
    "    plt.scatter(ws, p, s = 1, alpha = alpha)\n",
    "    plt.scatter(ws[flag_bool], p[flag_bool], s = 1, c = 'red')\n",
    "    plt.xlabel('Wind speed (m/s)')\n",
    "    plt.ylabel('Power (W)')\n",
    "    plt.show()"
   ]
  },
  {
   "cell_type": "markdown",
   "metadata": {},
   "source": [
    "First, we'll make a scatter plot the raw power curve data."
   ]
  },
  {
   "cell_type": "code",
   "execution_count": 10,
   "metadata": {},
   "outputs": [
    {
     "data": {
      "image/png": "[encoded data removed]",
      "text/plain": [
       "<Figure size 432x288 with 1 Axes>"
      ]
     },
     "metadata": {
      "needs_background": "light"
     },
     "output_type": "display_data"
    }
   ],
   "source": [
    "plot_flagged_pc(windspeed, power_kw, np.repeat(True, df.shape[0]), 1)"
   ]
  },
  {
   "cell_type": "markdown",
   "metadata": {},
   "source": [
    "### Range filter"
   ]
  },
  {
   "cell_type": "code",
   "execution_count": 11,
   "metadata": {},
   "outputs": [
    {
     "data": {
      "text/plain": [
       "Series([], Name: wmet_wdspd_avg, dtype: float64)"
      ]
     },
     "execution_count": 11,
     "metadata": {},
     "output_type": "execute_result"
    }
   ],
   "source": [
    "out_of_range = filters.range_flag(windspeed, below=0, above=70)\n",
    "windspeed[out_of_range].head()"
   ]
  },
  {
   "cell_type": "markdown",
   "metadata": {},
   "source": [
    "No wind speeds out of range\n",
    "\n",
    "### Window range filter\n",
    "\n",
    "Now, we'll apply a window range filter to remove data with power values outside of the window from 20 to 2100 kW for wind speeds between 5 and 40 m/s."
   ]
  },
  {
   "cell_type": "code",
   "execution_count": 12,
   "metadata": {},
   "outputs": [
    {
     "data": {
      "image/png": "[encoded data removed]",
      "text/plain": [
       "<Figure size 432x288 with 1 Axes>"
      ]
     },
     "metadata": {
      "needs_background": "light"
     },
     "output_type": "display_data"
    }
   ],
   "source": [
    "out_of_window = filters.window_range_flag(windspeed, 5., 40, power_kw, 20., 2100.)\n",
    "plot_flagged_pc(windspeed, power_kw, out_of_window, 0.2)"
   ]
  },
  {
   "cell_type": "markdown",
   "metadata": {},
   "source": [
    "Let's remove these flagged data from consideration"
   ]
  },
  {
   "cell_type": "code",
   "execution_count": 13,
   "metadata": {},
   "outputs": [],
   "source": [
    "windspeed_filt1 = windspeed[~out_of_window]\n",
    "power_kw_filt1 = power_kw[~out_of_window]"
   ]
  },
  {
   "cell_type": "markdown",
   "metadata": {},
   "source": [
    "### Bin filter\n",
    "\n",
    "We may be interested in fitting a power curve to data representing 'normal' turbine operation. In other words, we want to flag all anomalous data or data represenatative of underperformance. To do this, the 'bin_filter' function is useful. It works by binning the data by a specified variable, bin width, and start and end points. The criteria for flagging is based on some measure (scalar or standard deviation) from the mean or median of the bin center. \n",
    "\n",
    "As an example, let's bin on power in 100 kW increments, starting from 25.0 kW but stopping at 90% of peak power (i.e. we don't want to flag all the data at peak power and high wind speed. Let's use a scalar threshold of 1.5 m/s from the median for each bin. Let's also consider data on both sides of the curve by setting the 'direction' parameter to 'all'"
   ]
  },
  {
   "cell_type": "code",
   "execution_count": 14,
   "metadata": {},
   "outputs": [
    {
     "data": {
      "image/png": "[encoded data removed]",
      "text/plain": [
       "<Figure size 432x288 with 1 Axes>"
      ]
     },
     "metadata": {
      "needs_background": "light"
     },
     "output_type": "display_data"
    }
   ],
   "source": [
    "max_bin = 0.90*power_kw_filt1.max()\n",
    "bin_outliers = filters.bin_filter(power_kw_filt1, windspeed_filt1, 100, 1.5, 'median', 20., max_bin, 'scalar', 'all')\n",
    "plot_flagged_pc(windspeed_filt1, power_kw_filt1, bin_outliers, 0.5)"
   ]
  },
  {
   "cell_type": "markdown",
   "metadata": {},
   "source": [
    "As seen above, one call for the bin filter has done a decent job of cleaning up the power curve to represent 'normal' operation, without excessive removal of data points. There are a few points at peak power but low wind speed that weren't flagged, however. Let catch those, and then remove those as well as the flagged data above, and plot our 'clean' power curve "
   ]
  },
  {
   "cell_type": "code",
   "execution_count": 15,
   "metadata": {},
   "outputs": [],
   "source": [
    "windspeed_filt2 = windspeed_filt1[~bin_outliers]\n",
    "power_kw_filt2 = power_kw_filt1[~bin_outliers]"
   ]
  },
  {
   "cell_type": "markdown",
   "metadata": {},
   "source": [
    "#### Unresponsive Filter\n",
    "\n",
    "As a final filtering demonstration, we can look for an unrespsonsive sensor (i.e. repeating measurements). In this case, let's look for 3 or more repeating wind speed measurements:"
   ]
  },
  {
   "cell_type": "code",
   "execution_count": 16,
   "metadata": {},
   "outputs": [
    {
     "data": {
      "text/plain": [
       "time\n",
       "2014-10-23 20:10:00    0.00\n",
       "2014-10-25 07:30:00    0.00\n",
       "2014-10-27 05:10:00    0.00\n",
       "2014-09-30 21:40:00    0.00\n",
       "2014-10-01 00:20:00    0.00\n",
       "2014-10-01 05:30:00    0.00\n",
       "2015-06-15 08:00:00    0.00\n",
       "2015-06-15 08:10:00    0.00\n",
       "2015-06-15 16:10:00    0.00\n",
       "2014-10-24 07:00:00    0.00\n",
       "2014-10-25 22:40:00    0.00\n",
       "2014-10-26 01:00:00    0.00\n",
       "2014-10-01 04:50:00    0.00\n",
       "2014-10-01 10:50:00    0.00\n",
       "2014-10-05 06:50:00    0.00\n",
       "2015-10-08 03:20:00    0.00\n",
       "2015-10-13 01:10:00    0.00\n",
       "2015-10-13 01:20:00    0.00\n",
       "2015-03-06 06:30:00    0.00\n",
       "2015-03-08 07:00:00    0.00\n",
       "2015-03-08 07:20:00    0.00\n",
       "2014-02-10 08:50:00    5.52\n",
       "2014-02-10 11:40:00    5.52\n",
       "2014-02-10 15:10:00    5.52\n",
       "2014-10-25 21:40:00    0.00\n",
       "2014-10-25 21:50:00    0.00\n",
       "2014-10-27 04:00:00    0.00\n",
       "2015-03-08 08:30:00    0.00\n",
       "2015-03-08 08:50:00    0.00\n",
       "2015-03-08 09:50:00    0.00\n",
       "2015-04-29 01:00:00    0.00\n",
       "2015-05-01 01:30:00    0.00\n",
       "2015-05-01 22:20:00    0.00\n",
       "2015-05-02 03:00:00    0.00\n",
       "2014-09-30 20:50:00    0.00\n",
       "2014-09-30 22:20:00    0.00\n",
       "2014-10-01 04:20:00    0.00\n",
       "2014-05-03 13:40:00    5.40\n",
       "2014-05-04 06:10:00    5.40\n",
       "2014-05-05 17:40:00    5.40\n",
       "2014-07-15 13:50:00    0.00\n",
       "2014-07-15 16:00:00    0.00\n",
       "2014-07-15 18:50:00    0.00\n",
       "2014-12-14 03:50:00    0.00\n",
       "2014-12-14 11:10:00    0.00\n",
       "2014-12-14 14:20:00    0.00\n",
       "2014-10-27 00:00:00    0.00\n",
       "2014-10-27 00:20:00    0.00\n",
       "2014-10-27 08:00:00    0.00\n",
       "2014-10-23 21:10:00    0.00\n",
       "2014-10-24 12:00:00    0.00\n",
       "2014-10-26 04:30:00    0.00\n",
       "Name: wmet_wdspd_avg, dtype: float64"
      ]
     },
     "execution_count": 16,
     "metadata": {},
     "output_type": "execute_result"
    }
   ],
   "source": [
    "frozen = filters.unresponsive_flag(windspeed_filt2, 3)\n",
    "windspeed_filt2[frozen]"
   ]
  },
  {
   "cell_type": "markdown",
   "metadata": {},
   "source": [
    "We actually found a lot, so let's remove these data as well before moving on to power curve fitting.\n",
    "\n",
    "Note that many of the unresponsive sensor values identified above are likely caused by the discretization of the data to only two decimal places. However, the goal is to illustrate the filtering process."
   ]
  },
  {
   "cell_type": "code",
   "execution_count": 17,
   "metadata": {},
   "outputs": [],
   "source": [
    "windspeed_final = windspeed_filt2[~frozen]\n",
    "power_kw_final = power_kw_filt2[~frozen]"
   ]
  },
  {
   "cell_type": "markdown",
   "metadata": {},
   "source": [
    "##### Power curve fitting\n",
    "\n",
    "We will now consider three different models for fitting a power curve to the SCADA data."
   ]
  },
  {
   "cell_type": "code",
   "execution_count": null,
   "metadata": {},
   "outputs": [],
   "source": [
    "# Fit the power curves\n",
    "iec_curve = power_curve.IEC(windspeed_final, power_kw_final)\n",
    "l5p_curve = power_curve.logistic_5_parametric(windspeed_final, power_kw_final)\n",
    "spline_curve = power_curve.gam(windspeed_final, power_kw_final, n_splines = 20)"
   ]
  },
  {
   "cell_type": "code",
   "execution_count": null,
   "metadata": {},
   "outputs": [],
   "source": [
    "# Plot the results\n",
    "x = np.linspace(0,20,100)\n",
    "plt.figure(figsize = (10,6))\n",
    "plt.scatter(windspeed_final, power_kw_final, alpha=0.5, s = 1, c = 'gray')\n",
    "plt.plot(x, iec_curve(x), color=\"red\", label = 'IEC', linewidth = 3)\n",
    "plt.plot(x, spline_curve(x), color=\"C1\", label = 'Spline', linewidth = 3)\n",
    "plt.plot(x, l5p_curve(x), color=\"C2\", label = 'L5P', linewidth = 3)\n",
    "plt.xlabel('Wind speed (m/s)')\n",
    "plt.ylabel('Power (kW)')\n",
    "plt.legend()\n",
    "plt.show()"
   ]
  },
  {
   "cell_type": "markdown",
   "metadata": {},
   "source": [
    "The above plot shows that the IEC method accurately captures the power curve, although it results in a 'choppy' fit, while the L5P model (constrained by its parametric form) deviates from the knee of the power curve through peak production. The spline fit tends to fit the best."
   ]
  },
  {
   "cell_type": "code",
   "execution_count": null,
   "metadata": {},
   "outputs": [],
   "source": []
  }
 ],
 "metadata": {
  "kernelspec": {
   "display_name": "Python 3 (ipykernel)",
   "language": "python",
   "name": "python3"
  },
  "language_info": {
   "codemirror_mode": {
    "name": "ipython",
    "version": 3
   },
   "file_extension": ".py",
   "mimetype": "text/x-python",
   "name": "python",
   "nbconvert_exporter": "python",
   "pygments_lexer": "ipython3",
   "version": "3.9.13"
  },
  "toc": {
   "base_numbering": 1,
   "nav_menu": {},
   "number_sections": true,
   "sideBar": true,
   "skip_h1_title": false,
   "title_cell": "Table of Contents",
   "title_sidebar": "Contents",
   "toc_cell": false,
   "toc_position": {},
   "toc_section_display": true,
   "toc_window_display": false
  }
 },
 "nbformat": 4,
 "nbformat_minor": 4
}
