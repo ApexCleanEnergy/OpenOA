{
 "cells": [
  {
   "cell_type": "markdown",
   "metadata": {},
   "source": [
    "### The next step in the gap analysis is to estimate electrical losses from the wind farm."
   ]
  },
  {
   "cell_type": "code",
   "execution_count": 1,
   "metadata": {},
   "outputs": [],
   "source": [
    "%load_ext autoreload\n",
    "%autoreload 2"
   ]
  },
  {
   "cell_type": "markdown",
   "metadata": {},
   "source": [
    "Calculating electrical losses in this method is relatively straightforward. In short, the sum of turbine energy is compared to the sum of metered energy, with the differnce equaling the electrical losses for the wind farm. However, the time resolution of the metered data and dealing with missing data are important aspects of this method.\n",
    "\n",
    "The approach is to first calculate daily sums of turbine and revenue meter energy over the \n",
    "plant period of record. Only those days where all turbines and the revenue meter were \n",
    "reporting for all timesteps are considered. Electrical loss is then the difference in \n",
    "total turbine energy production and meter production over those concurrent days. \n",
    "    \n",
    "A Monte Carlo approach is applied to sample revenue meter data and SCADA data\n",
    "with a 0.5% imposed uncertainty, and one filtering parameter is sampled too.\n",
    "The uncertainty in estimated electrical losses is quantified as standard deviation\n",
    "of the distribution of losses obtained from the MC sampling.\n",
    "    \n",
    "In the case that meter data is not provided on a daily or sub-daily basis (e.g. monthly), a\n",
    "different approach is implemented. The sum of daily turbine energy is corrected for any missing \n",
    "reported energy data from the turbines based on the ratio of expected number of data counts per day \n",
    "to the actual. Daily corrected sum of turbine energy is then summed on a monthly basis. Electrical \n",
    "loss is then the difference between total corrected turbine energy production and meter production \n",
    "over those concurrent months.   "
   ]
  },
  {
   "cell_type": "code",
   "execution_count": 2,
   "metadata": {},
   "outputs": [
    {
     "name": "stderr",
     "output_type": "stream",
     "text": [
      "/Users/moptis/opt/anaconda3/envs/default/lib/python3.7/site-packages/sklearn/utils/deprecation.py:144: FutureWarning: The sklearn.metrics.scorer module is  deprecated in version 0.22 and will be removed in version 0.24. The corresponding classes / functions should instead be imported from sklearn.metrics. Anything that cannot be imported from sklearn.metrics is now part of the private API.\n",
      "  warnings.warn(message, FutureWarning)\n"
     ]
    }
   ],
   "source": [
    "# Import required packages\n",
    "import matplotlib.pyplot as plt\n",
    "import numpy as np\n",
    "import pandas as pd\n",
    "\n",
    "from project_ENGIE import Project_Engie\n",
    "from operational_analysis.methods import electrical_losses"
   ]
  },
  {
   "cell_type": "markdown",
   "metadata": {},
   "source": [
    "In the call below, make sure the appropriate path to the CSV input files is specfied. In this example, the CSV files are located directly in the 'examples/operational_AEP_analysis/data' folder."
   ]
  },
  {
   "cell_type": "code",
   "execution_count": 3,
   "metadata": {},
   "outputs": [],
   "source": [
    "# Load wind farm object\n",
    "project = Project_Engie('./data/la_haute_borne/')"
   ]
  },
  {
   "cell_type": "code",
   "execution_count": 4,
   "metadata": {},
   "outputs": [
    {
     "name": "stderr",
     "output_type": "stream",
     "text": [
      "INFO:project_ENGIE:Loading SCADA data\n",
      "INFO:operational_analysis.types.timeseries_table:Loading name:la-haute-borne-data-2014-2015\n",
      "INFO:project_ENGIE:SCADA data loaded\n",
      "INFO:project_ENGIE:Timestamp QC and conversion to UTC\n",
      "INFO:project_ENGIE:Correcting for out of range of temperature variables\n",
      "INFO:project_ENGIE:Flagging unresponsive sensors\n",
      "INFO:project_ENGIE:Converting field names to IEC 61400-25 standard\n",
      "INFO:operational_analysis.types.timeseries_table:Loading name:plant_data\n",
      "INFO:operational_analysis.types.timeseries_table:Loading name:plant_data\n",
      "INFO:operational_analysis.types.timeseries_table:Loading name:merra2_la_haute_borne\n",
      "INFO:operational_analysis.types.timeseries_table:Loading name:era5_wind_la_haute_borne\n"
     ]
    }
   ],
   "source": [
    "# Load and prepare the wind farm data\n",
    "project.prepare()"
   ]
  },
  {
   "cell_type": "markdown",
   "metadata": {},
   "source": [
    "Next we create a Electrical Loss object which will contain the analysis to be performed. The method has the ability to calculate uncertainty in the electrical through a Monte Carlo sampling of power data based on its measurement uncertainty. For now, we turn this option off an calculate a single electrical loss value."
   ]
  },
  {
   "cell_type": "code",
   "execution_count": 5,
   "metadata": {},
   "outputs": [
    {
     "name": "stderr",
     "output_type": "stream",
     "text": [
      "INFO:operational_analysis.methods.electrical_losses:Initializing Electrical Losses Object\n",
      "INFO:operational_analysis.methods.electrical_losses:Note: uncertainty quantification will NOT be performed in the calculation\n"
     ]
    }
   ],
   "source": [
    "# Create Electrical Loss object\n",
    "el = electrical_losses.ElectricalLosses(project)"
   ]
  },
  {
   "cell_type": "code",
   "execution_count": 6,
   "metadata": {},
   "outputs": [
    {
     "name": "stderr",
     "output_type": "stream",
     "text": [
      "INFO:operational_analysis.methods.electrical_losses:Processing SCADA data\n",
      "INFO:operational_analysis.methods.electrical_losses:Processing meter data\n",
      "INFO:operational_analysis.methods.electrical_losses:Calculating electrical losses\n",
      "100%|██████████| 1/1 [00:00<00:00, 74.83it/s]\n"
     ]
    }
   ],
   "source": [
    "# Now we run the analysis using the run() function in the method\n",
    "el.run(uncertainty_meter=0.005, # 0.5% uncertainty in meter data\n",
    "       uncertainty_scada=0.005, # 0.5% uncertainty in scada data\n",
    "       uncertainty_correction_thresh=0.95 # If dealing with monthly meter data, exclude months with less than 95%\n",
    "                                          # data coverage\n",
    "      )"
   ]
  },
  {
   "cell_type": "markdown",
   "metadata": {},
   "source": [
    "Now that the analyiss is complete, let's examine the results"
   ]
  },
  {
   "cell_type": "code",
   "execution_count": 14,
   "metadata": {},
   "outputs": [
    {
     "data": {
      "text/plain": [
       "0.019994645742959616"
      ]
     },
     "execution_count": 14,
     "metadata": {},
     "output_type": "execute_result"
    }
   ],
   "source": [
    "el._electrical_losses[0][0]"
   ]
  },
  {
   "cell_type": "code",
   "execution_count": 15,
   "metadata": {},
   "outputs": [
    {
     "name": "stdout",
     "output_type": "stream",
     "text": [
      "Long-term electrical losses are 2.0 percent\n"
     ]
    }
   ],
   "source": [
    "# Electrical losses for the wind farm\n",
    "print('Electrical losses are %s percent' % np.round(el._electrical_losses[0][0]*100,1))"
   ]
  },
  {
   "cell_type": "code",
   "execution_count": 16,
   "metadata": {},
   "outputs": [
    {
     "data": {
      "text/plain": [
       "Text(0, 0.5, 'Electrical Losses (%)')"
      ]
     },
     "execution_count": 16,
     "metadata": {},
     "output_type": "execute_result"
    },
    {
     "data": {
      "image/png": "[encoded data removed]",
      "text/plain": [
       "<Figure size 576x288 with 1 Axes>"
      ]
     },
     "metadata": {
      "needs_background": "light"
     },
     "output_type": "display_data"
    }
   ],
   "source": [
    "# Let's plot electrical losses by month\n",
    "plt.figure(figsize = (8,4))\n",
    "monthly_merge = el._merge_df.resample('MS').sum()\n",
    "plt.plot((monthly_merge['corrected_energy'] - monthly_merge['energy_kwh']) / monthly_merge['corrected_energy'] * 100)\n",
    "plt.xlabel('Month')\n",
    "plt.ylabel('Electrical Losses (%)')"
   ]
  },
  {
   "cell_type": "markdown",
   "metadata": {},
   "source": [
    "We see that electrical losses vary between 1.98 and 2.02%. This is a narrow range, but keep in mind the meter data for La Haute Borne was synthesized by NREL based on the SCADA data and sampling around a 2% electrical loss. Normally electrical losses using actual meter data would not be this consistent and would generally show seasonal trends."
   ]
  }
 ],
 "metadata": {
  "kernelspec": {
   "display_name": "default",
   "language": "python",
   "name": "default"
  },
  "language_info": {
   "codemirror_mode": {
    "name": "ipython",
    "version": 3
   },
   "file_extension": ".py",
   "mimetype": "text/x-python",
   "name": "python",
   "nbconvert_exporter": "python",
   "pygments_lexer": "ipython3",
   "version": "3.7.6"
  }
 },
 "nbformat": 4,
 "nbformat_minor": 2
}
